{
 "cells": [
  {
   "cell_type": "markdown",
   "id": "1d89c828-0689-481e-a35a-0a5ee9b71e93",
   "metadata": {
    "deletable": false,
    "editable": false,
    "nbgrader": {
     "cell_type": "markdown",
     "checksum": "6b35a6bd61df32f36f1120076c978f4c",
     "grade": false,
     "grade_id": "cell-4fa82e2144bb910e",
     "locked": true,
     "schema_version": 3,
     "solution": false,
     "task": false
    }
   },
   "source": [
    "# Programming Assignment\n",
    "## Summary Statistics"
   ]
  },
  {
   "cell_type": "markdown",
   "id": "ace13049-d114-47b6-8ab1-530c8659650b",
   "metadata": {
    "deletable": false,
    "editable": false,
    "nbgrader": {
     "cell_type": "markdown",
     "checksum": "223593e61b6603b1f295be0e486725a2",
     "grade": false,
     "grade_id": "cell-95ecf40182409577",
     "locked": true,
     "schema_version": 3,
     "solution": false,
     "task": false
    }
   },
   "source": [
    "\n",
    "### Summary Statistics and Boulder, Colorado Weather Data in 2017\n",
    "***\n",
    "\n",
    "After completion of this assignment you will be able to : \n",
    "- Use Pandas to compute summary statistics on Boulder weather data \n",
    "- Figure out how summary statistics like mean and standard deviation change under transformations of the data\n",
    "\n",
    "Go ahead and load Numpy and Pandas using their common aliases, `np` and `pd`.                                                                                   "
   ]
  },
  {
   "cell_type": "code",
   "execution_count": 1,
   "id": "5e829446-6b35-4bef-9659-0f9f4376cfaf",
   "metadata": {
    "deletable": false,
    "editable": false,
    "nbgrader": {
     "cell_type": "code",
     "checksum": "205d0142e278b61954302c3605c953e4",
     "grade": false,
     "grade_id": "cell-e35b67877f8493e2",
     "locked": true,
     "schema_version": 3,
     "solution": false,
     "task": false
    }
   },
   "outputs": [],
   "source": [
    "import numpy as np \n",
    "import pandas as pd"
   ]
  },
  {
   "cell_type": "markdown",
   "id": "09646f66-e3c0-42cb-8526-5b64c5360d42",
   "metadata": {
    "deletable": false,
    "editable": false,
    "nbgrader": {
     "cell_type": "markdown",
     "checksum": "8919810ef0260f9b6e41d181b07b2bdd",
     "grade": false,
     "grade_id": "cell-8204b5b8a3a79987",
     "locked": true,
     "schema_version": 3,
     "solution": false,
     "task": false
    }
   },
   "source": [
    "The data we'll explore in this notebook concerns temperatures and other weather observations in Boulder County over the month of July 2017.  \n",
    "\n",
    "The data was obtained from the National Oceanic and Atmospheric Administration's [Climate.gov](https://www.climate.gov/) website.  You can find and download loads of climate-related data from NOAA [here](https://www.climate.gov/maps-data/datasets).   \n",
    "\n",
    "The data is stored in a .csv file called `clean_boulder_weather.csv`."
   ]
  },
  {
   "cell_type": "code",
   "execution_count": 2,
   "id": "93692322-fe90-4863-8d3a-672de3a3c279",
   "metadata": {
    "deletable": false,
    "editable": false,
    "nbgrader": {
     "cell_type": "code",
     "checksum": "632a743f50e1add102a7b3b78fb000f7",
     "grade": false,
     "grade_id": "cell-4550f7302a9c2a78",
     "locked": true,
     "schema_version": 3,
     "solution": false,
     "task": false
    }
   },
   "outputs": [],
   "source": [
    "# Two different paths to the data \n",
    "local_path = 'clean_boulder_weather.csv'\n",
    "\n",
    "# Load the data into a DataFrame \n",
    "df = pd.read_csv(local_path)"
   ]
  },
  {
   "cell_type": "markdown",
   "id": "2c938754-c759-4562-93a4-c3152d7cfbb3",
   "metadata": {
    "deletable": false,
    "editable": false,
    "nbgrader": {
     "cell_type": "markdown",
     "checksum": "8f6ea034790c45583865ea7c4d30916f",
     "grade": false,
     "grade_id": "cell-64dee4f7c6aa6a77",
     "locked": true,
     "schema_version": 3,
     "solution": false,
     "task": false
    }
   },
   "source": [
    "Take a look at the first 50 or so rows of the DataFrame using the `head( )` method. "
   ]
  },
  {
   "cell_type": "code",
   "execution_count": 3,
   "id": "c24c6ede-c2de-4ea8-b1ee-32adf94213f2",
   "metadata": {
    "deletable": false,
    "editable": false,
    "nbgrader": {
     "cell_type": "code",
     "checksum": "ca5b48728a702a748c2fa98b7208f540",
     "grade": false,
     "grade_id": "cell-4ac508fb2d6421d1",
     "locked": true,
     "schema_version": 3,
     "solution": false,
     "task": false
    }
   },
   "outputs": [
    {
     "data": {
      "text/html": [
       "<div>\n",
       "<style scoped>\n",
       "    .dataframe tbody tr th:only-of-type {\n",
       "        vertical-align: middle;\n",
       "    }\n",
       "\n",
       "    .dataframe tbody tr th {\n",
       "        vertical-align: top;\n",
       "    }\n",
       "\n",
       "    .dataframe thead th {\n",
       "        text-align: right;\n",
       "    }\n",
       "</style>\n",
       "<table border=\"1\" class=\"dataframe\">\n",
       "  <thead>\n",
       "    <tr style=\"text-align: right;\">\n",
       "      <th></th>\n",
       "      <th>STATION</th>\n",
       "      <th>NAME</th>\n",
       "      <th>DATE</th>\n",
       "      <th>PRCP</th>\n",
       "      <th>TMAX</th>\n",
       "      <th>TMIN</th>\n",
       "    </tr>\n",
       "  </thead>\n",
       "  <tbody>\n",
       "    <tr>\n",
       "      <th>0</th>\n",
       "      <td>USW00094075</td>\n",
       "      <td>BOULDER 14 W, CO US</td>\n",
       "      <td>2017-07-01</td>\n",
       "      <td>0.00</td>\n",
       "      <td>68.0</td>\n",
       "      <td>31.0</td>\n",
       "    </tr>\n",
       "    <tr>\n",
       "      <th>1</th>\n",
       "      <td>USW00094075</td>\n",
       "      <td>BOULDER 14 W, CO US</td>\n",
       "      <td>2017-07-02</td>\n",
       "      <td>0.00</td>\n",
       "      <td>73.0</td>\n",
       "      <td>35.0</td>\n",
       "    </tr>\n",
       "    <tr>\n",
       "      <th>2</th>\n",
       "      <td>USW00094075</td>\n",
       "      <td>BOULDER 14 W, CO US</td>\n",
       "      <td>2017-07-03</td>\n",
       "      <td>0.00</td>\n",
       "      <td>68.0</td>\n",
       "      <td>46.0</td>\n",
       "    </tr>\n",
       "    <tr>\n",
       "      <th>3</th>\n",
       "      <td>USW00094075</td>\n",
       "      <td>BOULDER 14 W, CO US</td>\n",
       "      <td>2017-07-04</td>\n",
       "      <td>0.05</td>\n",
       "      <td>68.0</td>\n",
       "      <td>43.0</td>\n",
       "    </tr>\n",
       "    <tr>\n",
       "      <th>4</th>\n",
       "      <td>USW00094075</td>\n",
       "      <td>BOULDER 14 W, CO US</td>\n",
       "      <td>2017-07-05</td>\n",
       "      <td>0.01</td>\n",
       "      <td>73.0</td>\n",
       "      <td>40.0</td>\n",
       "    </tr>\n",
       "    <tr>\n",
       "      <th>5</th>\n",
       "      <td>USW00094075</td>\n",
       "      <td>BOULDER 14 W, CO US</td>\n",
       "      <td>2017-07-06</td>\n",
       "      <td>0.00</td>\n",
       "      <td>76.0</td>\n",
       "      <td>48.0</td>\n",
       "    </tr>\n",
       "    <tr>\n",
       "      <th>6</th>\n",
       "      <td>USW00094075</td>\n",
       "      <td>BOULDER 14 W, CO US</td>\n",
       "      <td>2017-07-07</td>\n",
       "      <td>0.02</td>\n",
       "      <td>74.0</td>\n",
       "      <td>43.0</td>\n",
       "    </tr>\n",
       "    <tr>\n",
       "      <th>7</th>\n",
       "      <td>USW00094075</td>\n",
       "      <td>BOULDER 14 W, CO US</td>\n",
       "      <td>2017-07-08</td>\n",
       "      <td>0.00</td>\n",
       "      <td>65.0</td>\n",
       "      <td>44.0</td>\n",
       "    </tr>\n",
       "    <tr>\n",
       "      <th>8</th>\n",
       "      <td>USW00094075</td>\n",
       "      <td>BOULDER 14 W, CO US</td>\n",
       "      <td>2017-07-09</td>\n",
       "      <td>0.01</td>\n",
       "      <td>73.0</td>\n",
       "      <td>39.0</td>\n",
       "    </tr>\n",
       "    <tr>\n",
       "      <th>9</th>\n",
       "      <td>USW00094075</td>\n",
       "      <td>BOULDER 14 W, CO US</td>\n",
       "      <td>2017-07-10</td>\n",
       "      <td>0.01</td>\n",
       "      <td>75.0</td>\n",
       "      <td>44.0</td>\n",
       "    </tr>\n",
       "    <tr>\n",
       "      <th>10</th>\n",
       "      <td>USW00094075</td>\n",
       "      <td>BOULDER 14 W, CO US</td>\n",
       "      <td>2017-07-11</td>\n",
       "      <td>0.01</td>\n",
       "      <td>71.0</td>\n",
       "      <td>52.0</td>\n",
       "    </tr>\n",
       "    <tr>\n",
       "      <th>11</th>\n",
       "      <td>USW00094075</td>\n",
       "      <td>BOULDER 14 W, CO US</td>\n",
       "      <td>2017-07-12</td>\n",
       "      <td>0.10</td>\n",
       "      <td>54.0</td>\n",
       "      <td>43.0</td>\n",
       "    </tr>\n",
       "    <tr>\n",
       "      <th>12</th>\n",
       "      <td>USW00094075</td>\n",
       "      <td>BOULDER 14 W, CO US</td>\n",
       "      <td>2017-07-13</td>\n",
       "      <td>0.00</td>\n",
       "      <td>67.0</td>\n",
       "      <td>41.0</td>\n",
       "    </tr>\n",
       "    <tr>\n",
       "      <th>13</th>\n",
       "      <td>USW00094075</td>\n",
       "      <td>BOULDER 14 W, CO US</td>\n",
       "      <td>2017-07-14</td>\n",
       "      <td>0.00</td>\n",
       "      <td>67.0</td>\n",
       "      <td>39.0</td>\n",
       "    </tr>\n",
       "    <tr>\n",
       "      <th>14</th>\n",
       "      <td>USW00094075</td>\n",
       "      <td>BOULDER 14 W, CO US</td>\n",
       "      <td>2017-07-15</td>\n",
       "      <td>0.00</td>\n",
       "      <td>65.0</td>\n",
       "      <td>40.0</td>\n",
       "    </tr>\n",
       "    <tr>\n",
       "      <th>15</th>\n",
       "      <td>USW00094075</td>\n",
       "      <td>BOULDER 14 W, CO US</td>\n",
       "      <td>2017-07-16</td>\n",
       "      <td>0.05</td>\n",
       "      <td>68.0</td>\n",
       "      <td>38.0</td>\n",
       "    </tr>\n",
       "    <tr>\n",
       "      <th>16</th>\n",
       "      <td>USW00094075</td>\n",
       "      <td>BOULDER 14 W, CO US</td>\n",
       "      <td>2017-07-17</td>\n",
       "      <td>0.01</td>\n",
       "      <td>72.0</td>\n",
       "      <td>47.0</td>\n",
       "    </tr>\n",
       "    <tr>\n",
       "      <th>17</th>\n",
       "      <td>USW00094075</td>\n",
       "      <td>BOULDER 14 W, CO US</td>\n",
       "      <td>2017-07-18</td>\n",
       "      <td>0.00</td>\n",
       "      <td>71.0</td>\n",
       "      <td>47.0</td>\n",
       "    </tr>\n",
       "    <tr>\n",
       "      <th>18</th>\n",
       "      <td>USW00094075</td>\n",
       "      <td>BOULDER 14 W, CO US</td>\n",
       "      <td>2017-07-19</td>\n",
       "      <td>0.03</td>\n",
       "      <td>80.0</td>\n",
       "      <td>45.0</td>\n",
       "    </tr>\n",
       "    <tr>\n",
       "      <th>19</th>\n",
       "      <td>USW00094075</td>\n",
       "      <td>BOULDER 14 W, CO US</td>\n",
       "      <td>2017-07-20</td>\n",
       "      <td>0.00</td>\n",
       "      <td>74.0</td>\n",
       "      <td>46.0</td>\n",
       "    </tr>\n",
       "    <tr>\n",
       "      <th>20</th>\n",
       "      <td>USW00094075</td>\n",
       "      <td>BOULDER 14 W, CO US</td>\n",
       "      <td>2017-07-21</td>\n",
       "      <td>0.16</td>\n",
       "      <td>74.0</td>\n",
       "      <td>48.0</td>\n",
       "    </tr>\n",
       "    <tr>\n",
       "      <th>21</th>\n",
       "      <td>USW00094075</td>\n",
       "      <td>BOULDER 14 W, CO US</td>\n",
       "      <td>2017-07-22</td>\n",
       "      <td>0.11</td>\n",
       "      <td>66.0</td>\n",
       "      <td>46.0</td>\n",
       "    </tr>\n",
       "    <tr>\n",
       "      <th>22</th>\n",
       "      <td>USW00094075</td>\n",
       "      <td>BOULDER 14 W, CO US</td>\n",
       "      <td>2017-07-23</td>\n",
       "      <td>0.56</td>\n",
       "      <td>69.0</td>\n",
       "      <td>43.0</td>\n",
       "    </tr>\n",
       "    <tr>\n",
       "      <th>23</th>\n",
       "      <td>USW00094075</td>\n",
       "      <td>BOULDER 14 W, CO US</td>\n",
       "      <td>2017-07-24</td>\n",
       "      <td>0.00</td>\n",
       "      <td>72.0</td>\n",
       "      <td>45.0</td>\n",
       "    </tr>\n",
       "    <tr>\n",
       "      <th>24</th>\n",
       "      <td>USW00094075</td>\n",
       "      <td>BOULDER 14 W, CO US</td>\n",
       "      <td>2017-07-25</td>\n",
       "      <td>0.24</td>\n",
       "      <td>69.0</td>\n",
       "      <td>47.0</td>\n",
       "    </tr>\n",
       "    <tr>\n",
       "      <th>25</th>\n",
       "      <td>USW00094075</td>\n",
       "      <td>BOULDER 14 W, CO US</td>\n",
       "      <td>2017-07-26</td>\n",
       "      <td>0.28</td>\n",
       "      <td>62.0</td>\n",
       "      <td>44.0</td>\n",
       "    </tr>\n",
       "    <tr>\n",
       "      <th>26</th>\n",
       "      <td>USW00094075</td>\n",
       "      <td>BOULDER 14 W, CO US</td>\n",
       "      <td>2017-07-27</td>\n",
       "      <td>0.02</td>\n",
       "      <td>65.0</td>\n",
       "      <td>44.0</td>\n",
       "    </tr>\n",
       "    <tr>\n",
       "      <th>27</th>\n",
       "      <td>USW00094075</td>\n",
       "      <td>BOULDER 14 W, CO US</td>\n",
       "      <td>2017-07-28</td>\n",
       "      <td>0.12</td>\n",
       "      <td>69.0</td>\n",
       "      <td>45.0</td>\n",
       "    </tr>\n",
       "    <tr>\n",
       "      <th>28</th>\n",
       "      <td>USW00094075</td>\n",
       "      <td>BOULDER 14 W, CO US</td>\n",
       "      <td>2017-07-29</td>\n",
       "      <td>0.14</td>\n",
       "      <td>59.0</td>\n",
       "      <td>47.0</td>\n",
       "    </tr>\n",
       "    <tr>\n",
       "      <th>29</th>\n",
       "      <td>USW00094075</td>\n",
       "      <td>BOULDER 14 W, CO US</td>\n",
       "      <td>2017-07-30</td>\n",
       "      <td>0.48</td>\n",
       "      <td>61.0</td>\n",
       "      <td>41.0</td>\n",
       "    </tr>\n",
       "    <tr>\n",
       "      <th>30</th>\n",
       "      <td>USW00094075</td>\n",
       "      <td>BOULDER 14 W, CO US</td>\n",
       "      <td>2017-07-31</td>\n",
       "      <td>0.00</td>\n",
       "      <td>65.0</td>\n",
       "      <td>37.0</td>\n",
       "    </tr>\n",
       "    <tr>\n",
       "      <th>31</th>\n",
       "      <td>USC00053629</td>\n",
       "      <td>GROSS RESERVOIR, CO US</td>\n",
       "      <td>2017-07-01</td>\n",
       "      <td>0.00</td>\n",
       "      <td>63.0</td>\n",
       "      <td>40.0</td>\n",
       "    </tr>\n",
       "    <tr>\n",
       "      <th>32</th>\n",
       "      <td>USC00053629</td>\n",
       "      <td>GROSS RESERVOIR, CO US</td>\n",
       "      <td>2017-07-02</td>\n",
       "      <td>0.00</td>\n",
       "      <td>76.0</td>\n",
       "      <td>45.0</td>\n",
       "    </tr>\n",
       "    <tr>\n",
       "      <th>33</th>\n",
       "      <td>USC00053629</td>\n",
       "      <td>GROSS RESERVOIR, CO US</td>\n",
       "      <td>2017-07-03</td>\n",
       "      <td>0.00</td>\n",
       "      <td>83.0</td>\n",
       "      <td>50.0</td>\n",
       "    </tr>\n",
       "    <tr>\n",
       "      <th>34</th>\n",
       "      <td>USC00053629</td>\n",
       "      <td>GROSS RESERVOIR, CO US</td>\n",
       "      <td>2017-07-04</td>\n",
       "      <td>0.00</td>\n",
       "      <td>82.0</td>\n",
       "      <td>52.0</td>\n",
       "    </tr>\n",
       "    <tr>\n",
       "      <th>35</th>\n",
       "      <td>USC00053629</td>\n",
       "      <td>GROSS RESERVOIR, CO US</td>\n",
       "      <td>2017-07-05</td>\n",
       "      <td>0.05</td>\n",
       "      <td>82.0</td>\n",
       "      <td>47.0</td>\n",
       "    </tr>\n",
       "    <tr>\n",
       "      <th>36</th>\n",
       "      <td>USC00053629</td>\n",
       "      <td>GROSS RESERVOIR, CO US</td>\n",
       "      <td>2017-07-06</td>\n",
       "      <td>0.00</td>\n",
       "      <td>86.0</td>\n",
       "      <td>50.0</td>\n",
       "    </tr>\n",
       "    <tr>\n",
       "      <th>37</th>\n",
       "      <td>USC00053629</td>\n",
       "      <td>GROSS RESERVOIR, CO US</td>\n",
       "      <td>2017-07-07</td>\n",
       "      <td>0.00</td>\n",
       "      <td>86.0</td>\n",
       "      <td>50.0</td>\n",
       "    </tr>\n",
       "    <tr>\n",
       "      <th>38</th>\n",
       "      <td>USC00053629</td>\n",
       "      <td>GROSS RESERVOIR, CO US</td>\n",
       "      <td>2017-07-08</td>\n",
       "      <td>0.00</td>\n",
       "      <td>77.0</td>\n",
       "      <td>48.0</td>\n",
       "    </tr>\n",
       "    <tr>\n",
       "      <th>39</th>\n",
       "      <td>USC00053629</td>\n",
       "      <td>GROSS RESERVOIR, CO US</td>\n",
       "      <td>2017-07-09</td>\n",
       "      <td>0.03</td>\n",
       "      <td>78.0</td>\n",
       "      <td>48.0</td>\n",
       "    </tr>\n",
       "    <tr>\n",
       "      <th>40</th>\n",
       "      <td>USC00053629</td>\n",
       "      <td>GROSS RESERVOIR, CO US</td>\n",
       "      <td>2017-07-10</td>\n",
       "      <td>0.00</td>\n",
       "      <td>84.0</td>\n",
       "      <td>50.0</td>\n",
       "    </tr>\n",
       "    <tr>\n",
       "      <th>41</th>\n",
       "      <td>USC00053629</td>\n",
       "      <td>GROSS RESERVOIR, CO US</td>\n",
       "      <td>2017-07-11</td>\n",
       "      <td>0.00</td>\n",
       "      <td>82.0</td>\n",
       "      <td>55.0</td>\n",
       "    </tr>\n",
       "    <tr>\n",
       "      <th>42</th>\n",
       "      <td>USC00053629</td>\n",
       "      <td>GROSS RESERVOIR, CO US</td>\n",
       "      <td>2017-07-12</td>\n",
       "      <td>0.00</td>\n",
       "      <td>82.0</td>\n",
       "      <td>61.0</td>\n",
       "    </tr>\n",
       "    <tr>\n",
       "      <th>43</th>\n",
       "      <td>USC00053629</td>\n",
       "      <td>GROSS RESERVOIR, CO US</td>\n",
       "      <td>2017-07-13</td>\n",
       "      <td>0.07</td>\n",
       "      <td>68.0</td>\n",
       "      <td>46.0</td>\n",
       "    </tr>\n",
       "    <tr>\n",
       "      <th>44</th>\n",
       "      <td>USC00053629</td>\n",
       "      <td>GROSS RESERVOIR, CO US</td>\n",
       "      <td>2017-07-14</td>\n",
       "      <td>0.00</td>\n",
       "      <td>77.0</td>\n",
       "      <td>48.0</td>\n",
       "    </tr>\n",
       "    <tr>\n",
       "      <th>45</th>\n",
       "      <td>USC00053629</td>\n",
       "      <td>GROSS RESERVOIR, CO US</td>\n",
       "      <td>2017-07-15</td>\n",
       "      <td>0.00</td>\n",
       "      <td>78.0</td>\n",
       "      <td>52.0</td>\n",
       "    </tr>\n",
       "    <tr>\n",
       "      <th>46</th>\n",
       "      <td>USC00053629</td>\n",
       "      <td>GROSS RESERVOIR, CO US</td>\n",
       "      <td>2017-07-16</td>\n",
       "      <td>0.00</td>\n",
       "      <td>77.0</td>\n",
       "      <td>48.0</td>\n",
       "    </tr>\n",
       "    <tr>\n",
       "      <th>47</th>\n",
       "      <td>USC00053629</td>\n",
       "      <td>GROSS RESERVOIR, CO US</td>\n",
       "      <td>2017-07-17</td>\n",
       "      <td>0.00</td>\n",
       "      <td>78.0</td>\n",
       "      <td>50.0</td>\n",
       "    </tr>\n",
       "    <tr>\n",
       "      <th>48</th>\n",
       "      <td>USC00053629</td>\n",
       "      <td>GROSS RESERVOIR, CO US</td>\n",
       "      <td>2017-07-18</td>\n",
       "      <td>0.00</td>\n",
       "      <td>83.0</td>\n",
       "      <td>53.0</td>\n",
       "    </tr>\n",
       "    <tr>\n",
       "      <th>49</th>\n",
       "      <td>USC00053629</td>\n",
       "      <td>GROSS RESERVOIR, CO US</td>\n",
       "      <td>2017-07-19</td>\n",
       "      <td>0.00</td>\n",
       "      <td>83.0</td>\n",
       "      <td>54.0</td>\n",
       "    </tr>\n",
       "  </tbody>\n",
       "</table>\n",
       "</div>"
      ],
      "text/plain": [
       "        STATION                    NAME        DATE  PRCP  TMAX  TMIN\n",
       "0   USW00094075     BOULDER 14 W, CO US  2017-07-01  0.00  68.0  31.0\n",
       "1   USW00094075     BOULDER 14 W, CO US  2017-07-02  0.00  73.0  35.0\n",
       "2   USW00094075     BOULDER 14 W, CO US  2017-07-03  0.00  68.0  46.0\n",
       "3   USW00094075     BOULDER 14 W, CO US  2017-07-04  0.05  68.0  43.0\n",
       "4   USW00094075     BOULDER 14 W, CO US  2017-07-05  0.01  73.0  40.0\n",
       "5   USW00094075     BOULDER 14 W, CO US  2017-07-06  0.00  76.0  48.0\n",
       "6   USW00094075     BOULDER 14 W, CO US  2017-07-07  0.02  74.0  43.0\n",
       "7   USW00094075     BOULDER 14 W, CO US  2017-07-08  0.00  65.0  44.0\n",
       "8   USW00094075     BOULDER 14 W, CO US  2017-07-09  0.01  73.0  39.0\n",
       "9   USW00094075     BOULDER 14 W, CO US  2017-07-10  0.01  75.0  44.0\n",
       "10  USW00094075     BOULDER 14 W, CO US  2017-07-11  0.01  71.0  52.0\n",
       "11  USW00094075     BOULDER 14 W, CO US  2017-07-12  0.10  54.0  43.0\n",
       "12  USW00094075     BOULDER 14 W, CO US  2017-07-13  0.00  67.0  41.0\n",
       "13  USW00094075     BOULDER 14 W, CO US  2017-07-14  0.00  67.0  39.0\n",
       "14  USW00094075     BOULDER 14 W, CO US  2017-07-15  0.00  65.0  40.0\n",
       "15  USW00094075     BOULDER 14 W, CO US  2017-07-16  0.05  68.0  38.0\n",
       "16  USW00094075     BOULDER 14 W, CO US  2017-07-17  0.01  72.0  47.0\n",
       "17  USW00094075     BOULDER 14 W, CO US  2017-07-18  0.00  71.0  47.0\n",
       "18  USW00094075     BOULDER 14 W, CO US  2017-07-19  0.03  80.0  45.0\n",
       "19  USW00094075     BOULDER 14 W, CO US  2017-07-20  0.00  74.0  46.0\n",
       "20  USW00094075     BOULDER 14 W, CO US  2017-07-21  0.16  74.0  48.0\n",
       "21  USW00094075     BOULDER 14 W, CO US  2017-07-22  0.11  66.0  46.0\n",
       "22  USW00094075     BOULDER 14 W, CO US  2017-07-23  0.56  69.0  43.0\n",
       "23  USW00094075     BOULDER 14 W, CO US  2017-07-24  0.00  72.0  45.0\n",
       "24  USW00094075     BOULDER 14 W, CO US  2017-07-25  0.24  69.0  47.0\n",
       "25  USW00094075     BOULDER 14 W, CO US  2017-07-26  0.28  62.0  44.0\n",
       "26  USW00094075     BOULDER 14 W, CO US  2017-07-27  0.02  65.0  44.0\n",
       "27  USW00094075     BOULDER 14 W, CO US  2017-07-28  0.12  69.0  45.0\n",
       "28  USW00094075     BOULDER 14 W, CO US  2017-07-29  0.14  59.0  47.0\n",
       "29  USW00094075     BOULDER 14 W, CO US  2017-07-30  0.48  61.0  41.0\n",
       "30  USW00094075     BOULDER 14 W, CO US  2017-07-31  0.00  65.0  37.0\n",
       "31  USC00053629  GROSS RESERVOIR, CO US  2017-07-01  0.00  63.0  40.0\n",
       "32  USC00053629  GROSS RESERVOIR, CO US  2017-07-02  0.00  76.0  45.0\n",
       "33  USC00053629  GROSS RESERVOIR, CO US  2017-07-03  0.00  83.0  50.0\n",
       "34  USC00053629  GROSS RESERVOIR, CO US  2017-07-04  0.00  82.0  52.0\n",
       "35  USC00053629  GROSS RESERVOIR, CO US  2017-07-05  0.05  82.0  47.0\n",
       "36  USC00053629  GROSS RESERVOIR, CO US  2017-07-06  0.00  86.0  50.0\n",
       "37  USC00053629  GROSS RESERVOIR, CO US  2017-07-07  0.00  86.0  50.0\n",
       "38  USC00053629  GROSS RESERVOIR, CO US  2017-07-08  0.00  77.0  48.0\n",
       "39  USC00053629  GROSS RESERVOIR, CO US  2017-07-09  0.03  78.0  48.0\n",
       "40  USC00053629  GROSS RESERVOIR, CO US  2017-07-10  0.00  84.0  50.0\n",
       "41  USC00053629  GROSS RESERVOIR, CO US  2017-07-11  0.00  82.0  55.0\n",
       "42  USC00053629  GROSS RESERVOIR, CO US  2017-07-12  0.00  82.0  61.0\n",
       "43  USC00053629  GROSS RESERVOIR, CO US  2017-07-13  0.07  68.0  46.0\n",
       "44  USC00053629  GROSS RESERVOIR, CO US  2017-07-14  0.00  77.0  48.0\n",
       "45  USC00053629  GROSS RESERVOIR, CO US  2017-07-15  0.00  78.0  52.0\n",
       "46  USC00053629  GROSS RESERVOIR, CO US  2017-07-16  0.00  77.0  48.0\n",
       "47  USC00053629  GROSS RESERVOIR, CO US  2017-07-17  0.00  78.0  50.0\n",
       "48  USC00053629  GROSS RESERVOIR, CO US  2017-07-18  0.00  83.0  53.0\n",
       "49  USC00053629  GROSS RESERVOIR, CO US  2017-07-19  0.00  83.0  54.0"
      ]
     },
     "execution_count": 3,
     "metadata": {},
     "output_type": "execute_result"
    }
   ],
   "source": [
    "df.head(50)"
   ]
  },
  {
   "cell_type": "markdown",
   "id": "78169a7b-57c3-4b13-8bf8-193274c49f8e",
   "metadata": {
    "deletable": false,
    "editable": false,
    "nbgrader": {
     "cell_type": "markdown",
     "checksum": "bbd41b1a7d701e97200878d6c7403843",
     "grade": false,
     "grade_id": "cell-73a9be0325a2e25f",
     "locked": true,
     "schema_version": 3,
     "solution": false,
     "task": false
    }
   },
   "source": [
    "From this you should see that each row in the DataFrame refers to a particular weather station / date combination.  The columns of the DataFrame are as follows: \n",
    "\n",
    "- **STATION**: The unique identification code for each weather station \n",
    "- **NAME**: The location / name of the weather station \n",
    "- **DATE**: The date of the observation \n",
    "- **PRCP**: The precipitation (in inches)\n",
    "- **TMAX**: The daily maximum temperature (in Fahrenheit)\n",
    "- **TMIN**: The daily minimum temperature (in Fahrenheit)\n",
    "\n",
    "Looking at the  DataFrame above you can see that we have data from multiple weather stations.  \n",
    "\n",
    "To observe how many, we can pass the **NAME** column (or the **STATION** column) into Python's set function. "
   ]
  },
  {
   "cell_type": "code",
   "execution_count": 4,
   "id": "c4a11ce4-4922-4b95-840e-cf949a2a53f0",
   "metadata": {
    "deletable": false,
    "editable": false,
    "nbgrader": {
     "cell_type": "code",
     "checksum": "069e9de46e09afbdf37961af0098b6c0",
     "grade": false,
     "grade_id": "cell-a16288ce58b51c6b",
     "locked": true,
     "schema_version": 3,
     "solution": false,
     "task": false
    }
   },
   "outputs": [
    {
     "data": {
      "text/plain": [
       "{'BOULDER 14 W, CO US',\n",
       " 'BOULDER, CO US',\n",
       " 'GROSS RESERVOIR, CO US',\n",
       " 'NIWOT, CO US',\n",
       " 'NORTHGLENN, CO US',\n",
       " 'RALSTON RESERVOIR, CO US',\n",
       " 'SUGARLOAF COLORADO, CO US'}"
      ]
     },
     "execution_count": 4,
     "metadata": {},
     "output_type": "execute_result"
    }
   ],
   "source": [
    "set(df[\"NAME\"])"
   ]
  },
  {
   "cell_type": "markdown",
   "id": "461a64d4-8aef-4839-bd11-67b12d25cdda",
   "metadata": {
    "deletable": false,
    "editable": false,
    "nbgrader": {
     "cell_type": "markdown",
     "checksum": "2b26a85c5184872cc4c07b4e166f7160",
     "grade": false,
     "grade_id": "cell-2d9f84d68dfd68b5",
     "locked": true,
     "schema_version": 3,
     "solution": false,
     "task": false
    }
   },
   "source": [
    "It appears that we have data from seven different weather stations.  For consistency, let's reduce the data to just the reports from the weather station in `Northglenn`.  "
   ]
  },
  {
   "attachments": {
    "Screenshot%202024-06-24%20at%2011.47.13%E2%80%AFAM.png": {
     "image/png": "[encoded data removed]"
    }
   },
   "cell_type": "markdown",
   "id": "558e09e7-3c65-48fa-bbeb-3a77e3314e5e",
   "metadata": {
    "deletable": false,
    "editable": false,
    "nbgrader": {
     "cell_type": "markdown",
     "checksum": "8c4b2b39da4339dba56abc38ab5976de",
     "grade": false,
     "grade_id": "cell-ec97c1cd2140a836",
     "locked": true,
     "schema_version": 3,
     "solution": false,
     "task": false
    }
   },
   "source": [
    "### Exercise 1\n",
    "***\n",
    "Extract the rows of the DataFrame concerned with the Northglenn weather station.  Store this data in a new DataFrame called `dfNorthglenn`. \n",
    "\n",
    "Your dataframe should start with the following values: \n",
    "\n",
    "![Screenshot%202024-06-24%20at%2011.47.13%E2%80%AFAM.png](attachment:Screenshot%202024-06-24%20at%2011.47.13%E2%80%AFAM.png)"
   ]
  },
  {
   "cell_type": "code",
   "execution_count": 5,
   "id": "f7168c45-d4a6-4ea9-919e-49c808cd0ba7",
   "metadata": {
    "deletable": false,
    "nbgrader": {
     "cell_type": "code",
     "checksum": "55fc43135cbd738057678844b3eedde3",
     "grade": false,
     "grade_id": "cell-e657f3cd9d075a22",
     "locked": false,
     "schema_version": 3,
     "solution": true,
     "task": false
    }
   },
   "outputs": [
    {
     "data": {
      "text/html": [
       "<div>\n",
       "<style scoped>\n",
       "    .dataframe tbody tr th:only-of-type {\n",
       "        vertical-align: middle;\n",
       "    }\n",
       "\n",
       "    .dataframe tbody tr th {\n",
       "        vertical-align: top;\n",
       "    }\n",
       "\n",
       "    .dataframe thead th {\n",
       "        text-align: right;\n",
       "    }\n",
       "</style>\n",
       "<table border=\"1\" class=\"dataframe\">\n",
       "  <thead>\n",
       "    <tr style=\"text-align: right;\">\n",
       "      <th></th>\n",
       "      <th>STATION</th>\n",
       "      <th>NAME</th>\n",
       "      <th>DATE</th>\n",
       "      <th>PRCP</th>\n",
       "      <th>TMAX</th>\n",
       "      <th>TMIN</th>\n",
       "    </tr>\n",
       "  </thead>\n",
       "  <tbody>\n",
       "    <tr>\n",
       "      <th>184</th>\n",
       "      <td>USC00055984</td>\n",
       "      <td>NORTHGLENN, CO US</td>\n",
       "      <td>2017-07-01</td>\n",
       "      <td>0.0</td>\n",
       "      <td>74.0</td>\n",
       "      <td>51.0</td>\n",
       "    </tr>\n",
       "    <tr>\n",
       "      <th>185</th>\n",
       "      <td>USC00055984</td>\n",
       "      <td>NORTHGLENN, CO US</td>\n",
       "      <td>2017-07-02</td>\n",
       "      <td>0.0</td>\n",
       "      <td>91.0</td>\n",
       "      <td>55.0</td>\n",
       "    </tr>\n",
       "    <tr>\n",
       "      <th>186</th>\n",
       "      <td>USC00055984</td>\n",
       "      <td>NORTHGLENN, CO US</td>\n",
       "      <td>2017-07-03</td>\n",
       "      <td>0.0</td>\n",
       "      <td>91.0</td>\n",
       "      <td>57.0</td>\n",
       "    </tr>\n",
       "    <tr>\n",
       "      <th>187</th>\n",
       "      <td>USC00055984</td>\n",
       "      <td>NORTHGLENN, CO US</td>\n",
       "      <td>2017-07-04</td>\n",
       "      <td>0.0</td>\n",
       "      <td>91.0</td>\n",
       "      <td>56.0</td>\n",
       "    </tr>\n",
       "    <tr>\n",
       "      <th>188</th>\n",
       "      <td>USC00055984</td>\n",
       "      <td>NORTHGLENN, CO US</td>\n",
       "      <td>2017-07-05</td>\n",
       "      <td>0.0</td>\n",
       "      <td>96.0</td>\n",
       "      <td>56.0</td>\n",
       "    </tr>\n",
       "  </tbody>\n",
       "</table>\n",
       "</div>"
      ],
      "text/plain": [
       "         STATION               NAME        DATE  PRCP  TMAX  TMIN\n",
       "184  USC00055984  NORTHGLENN, CO US  2017-07-01   0.0  74.0  51.0\n",
       "185  USC00055984  NORTHGLENN, CO US  2017-07-02   0.0  91.0  55.0\n",
       "186  USC00055984  NORTHGLENN, CO US  2017-07-03   0.0  91.0  57.0\n",
       "187  USC00055984  NORTHGLENN, CO US  2017-07-04   0.0  91.0  56.0\n",
       "188  USC00055984  NORTHGLENN, CO US  2017-07-05   0.0  96.0  56.0"
      ]
     },
     "execution_count": 5,
     "metadata": {},
     "output_type": "execute_result"
    }
   ],
   "source": [
    "# Filter the data for the \"Northglenn\" weather station\n",
    "dfNorthglenn = df[df['NAME'] == 'NORTHGLENN, CO US']\n",
    "\n",
    "dfNorthglenn.head()   # run this line after performing the task "
   ]
  },
  {
   "cell_type": "code",
   "execution_count": null,
   "id": "1b18b951",
   "metadata": {
    "deletable": false,
    "editable": false,
    "nbgrader": {
     "cell_type": "code",
     "checksum": "c7e2e2cd79d8715f1249faf65309139a",
     "grade": true,
     "grade_id": "cell-bcfa62e597385c95",
     "locked": true,
     "points": 1,
     "schema_version": 3,
     "solution": false,
     "task": false
    }
   },
   "outputs": [],
   "source": []
  },
  {
   "cell_type": "markdown",
   "id": "987a30ff-7c27-42d1-bbf3-8cb6c2c813b6",
   "metadata": {
    "deletable": false,
    "editable": false,
    "nbgrader": {
     "cell_type": "markdown",
     "checksum": "c162da324f78cdd660626764aafe1c29",
     "grade": false,
     "grade_id": "cell-db09d01b40d176ce",
     "locked": true,
     "schema_version": 3,
     "solution": false,
     "task": false
    }
   },
   "source": [
    "### Exercise 2  \n",
    "***\n",
    "Pandas (and Numpy) have canned functions that compute each of the summary statistics discussed in lecture.  You use the .mean( ) function as an example.  All of these functions can be called either on a Pandas Series (i.e. a column of a DataFrame) or on an entire DataFrame at one time.  \n",
    "\n",
    "For instance, the sample mean of the maximum daily temperature is given by: "
   ]
  },
  {
   "cell_type": "code",
   "execution_count": 6,
   "id": "7c48de51-47f3-4a54-8465-a63775b88d9e",
   "metadata": {
    "deletable": false,
    "editable": false,
    "nbgrader": {
     "cell_type": "code",
     "checksum": "15fa959d48135a289298954cf18b7894",
     "grade": false,
     "grade_id": "cell-d6d33a23e8ae8be3",
     "locked": true,
     "schema_version": 3,
     "solution": false,
     "task": false
    }
   },
   "outputs": [
    {
     "data": {
      "text/plain": [
       "92.33333333333333"
      ]
     },
     "execution_count": 6,
     "metadata": {},
     "output_type": "execute_result"
    }
   ],
   "source": [
    "dfNorthglenn[\"TMAX\"].mean()"
   ]
  },
  {
   "cell_type": "markdown",
   "id": "f02bee40-dc4a-466e-a497-40d027a82cdf",
   "metadata": {
    "deletable": false,
    "editable": false,
    "nbgrader": {
     "cell_type": "markdown",
     "checksum": "f2f73eb3407172180abc40647a7a4bba",
     "grade": false,
     "grade_id": "cell-284221628eb54c96",
     "locked": true,
     "schema_version": 3,
     "solution": false,
     "task": false
    }
   },
   "source": [
    "Let us observe what happens if we call .mean( ) on the entire DataFrame. "
   ]
  },
  {
   "cell_type": "code",
   "execution_count": 7,
   "id": "b58df5ef-32a2-4ea0-87ea-2ac514ff242c",
   "metadata": {
    "deletable": false,
    "nbgrader": {
     "cell_type": "code",
     "checksum": "c8bef2f42f42d8d4ef44a97a4125e3cf",
     "grade": false,
     "grade_id": "cell-fa344ac092163baf",
     "locked": false,
     "schema_version": 3,
     "solution": true,
     "task": false
    }
   },
   "outputs": [
    {
     "name": "stdout",
     "output_type": "stream",
     "text": [
      "PRCP     0.021667\n",
      "TMAX    92.333333\n",
      "TMIN    59.666667\n",
      "dtype: float64\n"
     ]
    }
   ],
   "source": [
    "# Using this code below, it will select only the numerical values within the data frame \n",
    "dfNorthglenn = dfNorthglenn.select_dtypes(include='number')\n",
    "\n",
    "# Calculate the mean values now \n",
    "mean_vals = dfNorthglenn.mean()\n",
    "\n",
    "\n",
    "print(mean_vals)"
   ]
  },
  {
   "cell_type": "code",
   "execution_count": null,
   "id": "22c5c1bd",
   "metadata": {
    "deletable": false,
    "editable": false,
    "nbgrader": {
     "cell_type": "code",
     "checksum": "2c819ddc540d90fef4cb40d2d39f3b44",
     "grade": true,
     "grade_id": "cell-f08dcabcb511b865",
     "locked": true,
     "points": 1,
     "schema_version": 3,
     "solution": false,
     "task": false
    }
   },
   "outputs": [],
   "source": []
  },
  {
   "cell_type": "markdown",
   "id": "1aaf647e-a600-48fa-b708-0692b36f2112",
   "metadata": {
    "deletable": false,
    "editable": false,
    "nbgrader": {
     "cell_type": "markdown",
     "checksum": "a25540b16e7b32da4ab024222f5fc6ec",
     "grade": false,
     "grade_id": "cell-18c88d2b61431fb6",
     "locked": true,
     "schema_version": 3,
     "solution": false,
     "task": false
    }
   },
   "source": [
    "In this case, Pandas returned a Series with the means of all of the **numerical** data in the DataFrame. \n",
    "\n",
    "The functions for the other summary statistics are as follows: \n",
    "\n",
    "\\begin{array}{l|l}\n",
    "\\textrm{Function} & \\textrm{Statistics} \\\\\n",
    "\\hline\n",
    "\\textrm{.var()} & \\textrm{variance} \\\\\n",
    "\\textrm{.std()} & \\textrm{standard deviation} \\\\\n",
    "\\textrm{.min()} & \\textrm{minimum value} \\\\\n",
    "\\textrm{.max()} & \\textrm{maximum value} \\\\\n",
    "\\textrm{.median()} & \\textrm{value} \\\\\n",
    "\\textrm{.quantile(q)} & \\textrm{quantile, where q is the desired percentage as a decimal} \\\\\n",
    "\\end{array}\n",
    "\n",
    "Your job is to use these functions to compute the 5-number summary for the maximum daily temperature for `dfNorthglenn`"
   ]
  },
  {
   "cell_type": "code",
   "execution_count": 8,
   "id": "e742a83c",
   "metadata": {},
   "outputs": [
    {
     "data": {
      "text/plain": [
       "Index(['PRCP', 'TMAX', 'TMIN'], dtype='object')"
      ]
     },
     "execution_count": 8,
     "metadata": {},
     "output_type": "execute_result"
    }
   ],
   "source": [
    "dfNorthglenn.columns"
   ]
  },
  {
   "cell_type": "code",
   "execution_count": 9,
   "id": "838f002b-52c6-4e0f-b3ce-d99d1d826800",
   "metadata": {
    "deletable": false,
    "nbgrader": {
     "cell_type": "code",
     "checksum": "fb3bb15a485f238663e6b2561d9db57c",
     "grade": false,
     "grade_id": "cell-26404f72cd29f710",
     "locked": false,
     "schema_version": 3,
     "solution": true,
     "task": false
    }
   },
   "outputs": [
    {
     "name": "stdout",
     "output_type": "stream",
     "text": [
      "5-Number Summary: 74.00    89.25    93.00    98.00    101.00\n"
     ]
    }
   ],
   "source": [
    "# Use the following outputs\n",
    "# STEP 1: 'minval' , 'maxval' , 'Q1', 'Q2', 'Q3' \n",
    "# STEP 2: then print out using the following code: print(\"5-Number Summary: {:.2f}    {:.2f}    {:.2f}    {:.2f}\n",
    "\n",
    "# Calculate the 5-number summary for TMAX in the dfNorthglenn DataFrame\n",
    "minval = dfNorthglenn['TMAX'].min()  # Minimum value\n",
    "maxval = dfNorthglenn['TMAX'].max()  # Maximum value\n",
    "Q1 = dfNorthglenn['TMAX'].quantile(0.25)  # First quartile (25th percentile)\n",
    "Q2 = dfNorthglenn['TMAX'].median()  # Median (50th percentile)\n",
    "Q3 = dfNorthglenn['TMAX'].quantile(0.75)  # Third quartile (75th percentile)\n",
    "\n",
    "print(\"5-Number Summary: {:.2f}    {:.2f}    {:.2f}    {:.2f}    {:.2f}\".format(minval, Q1, Q2, Q3, maxval))"
   ]
  },
  {
   "cell_type": "code",
   "execution_count": null,
   "id": "f34f622e",
   "metadata": {
    "deletable": false,
    "editable": false,
    "nbgrader": {
     "cell_type": "code",
     "checksum": "dda37469a72261cf880535a2d6ba3b10",
     "grade": true,
     "grade_id": "cell-ea0fafdc99c7fbaa",
     "locked": true,
     "points": 1,
     "schema_version": 3,
     "solution": false,
     "task": false
    }
   },
   "outputs": [],
   "source": []
  },
  {
   "cell_type": "markdown",
   "id": "b14b1af4-830a-463e-93d0-d0e2c47f4724",
   "metadata": {
    "deletable": false,
    "editable": false,
    "nbgrader": {
     "cell_type": "markdown",
     "checksum": "4ccf95c511a2c7e10de2cf3a0b26f97a",
     "grade": false,
     "grade_id": "cell-a6e3d6117daea426",
     "locked": true,
     "schema_version": 3,
     "solution": false,
     "task": false
    }
   },
   "source": [
    "### Exercise 3 \n",
    "***\n",
    "It turns out that Pandas has a nice function called .describe( ) that will compute all of the standard summary statistics for you.  You can apply it either to a Pandas Series or to an entire DataFrame.  \n",
    "\n",
    "Run the .describe( ) function on the **TMAX** column of your DataFrame `dfNorthglenn`, and check that the results agree with your computations from Exercise 2. "
   ]
  },
  {
   "cell_type": "code",
   "execution_count": 10,
   "id": "04ffef2b-cd09-48f6-af36-48c7aa0ca816",
   "metadata": {
    "deletable": false,
    "nbgrader": {
     "cell_type": "code",
     "checksum": "16a7eb751c13667be895da627c52471c",
     "grade": false,
     "grade_id": "cell-c1f93ea2d287f3ce",
     "locked": false,
     "schema_version": 3,
     "solution": true,
     "task": false
    }
   },
   "outputs": [
    {
     "name": "stdout",
     "output_type": "stream",
     "text": [
      "count     30.000000\n",
      "mean      92.333333\n",
      "std        7.345340\n",
      "min       74.000000\n",
      "25%       89.250000\n",
      "50%       93.000000\n",
      "75%       98.000000\n",
      "max      101.000000\n",
      "Name: TMAX, dtype: float64\n"
     ]
    }
   ],
   "source": [
    "tmax = dfNorthglenn['TMAX'].describe()\n",
    "\n",
    "# your code here\n",
    "\n",
    "\n",
    "print(tmax)"
   ]
  },
  {
   "cell_type": "code",
   "execution_count": 11,
   "id": "8b33e403",
   "metadata": {
    "deletable": false,
    "editable": false,
    "nbgrader": {
     "cell_type": "code",
     "checksum": "00fbad20b734f1d76a47c8faa8f6cc05",
     "grade": true,
     "grade_id": "cell-e58566850b44915e",
     "locked": true,
     "points": 1,
     "schema_version": 3,
     "solution": false,
     "task": false
    }
   },
   "outputs": [],
   "source": [
    "### BGEIN HIDDEN TESTS\n",
    "\n",
    "assert (tmax.size == 8, \"\")\n"
   ]
  },
  {
   "cell_type": "code",
   "execution_count": 12,
   "id": "6cc3490b",
   "metadata": {},
   "outputs": [
    {
     "name": "stdout",
     "output_type": "stream",
     "text": [
      "Index(['STATION', 'NAME', 'DATE', 'PRCP', 'TMAX', 'TMIN'], dtype='object')\n"
     ]
    }
   ],
   "source": [
    "# Filter the data for \"Northglenn\" weather station, keeping all columns\n",
    "dfNorthglenn = df[df['NAME'] == 'NORTHGLENN, CO US']\n",
    "\n",
    "# Display the columns of the filtered DataFrame\n",
    "print(dfNorthglenn.columns)"
   ]
  },
  {
   "cell_type": "markdown",
   "id": "51a1dc02-aa3b-4b26-905a-7d7be004d2df",
   "metadata": {
    "deletable": false,
    "editable": false,
    "nbgrader": {
     "cell_type": "markdown",
     "checksum": "74bd36eb3ea65977dee8a150ef2955ed",
     "grade": false,
     "grade_id": "cell-fe74d1c764f1adc8",
     "locked": true,
     "schema_version": 3,
     "solution": false,
     "task": false
    }
   },
   "source": [
    "### Exercise 4 \n",
    "***\n",
    "In this exercise we'll explore how the mean and the standard deviation change when we perform basic transformations on the data.  In particular, we're interested in what happens if we \n",
    "\n",
    "1. Add or subtract some value from every entry in the data set \n",
    "1. Multiply every entry in the data set by some value \n",
    "\n",
    "We know from above that the mean and standard deviation of the `Northglenn` **TMAX** value are 92.333 and 7.345340.  Experiment by **adding** and **multiplying** an integer of the value of `3` with the **TMAX** column and then recomputing the statistics. You will have 4 computations for `mean()`, `std()`, `mean()`, and `std()`. Use the `print` functions to display your 4 computaions"
   ]
  },
  {
   "cell_type": "code",
   "execution_count": 13,
   "id": "8d72334c-1c7d-49bd-a755-12b482af177c",
   "metadata": {
    "deletable": false,
    "nbgrader": {
     "cell_type": "code",
     "checksum": "bc4a3dc17649985e5bf69cdac157c045",
     "grade": false,
     "grade_id": "cell-6e77c8d03612f0e0",
     "locked": false,
     "schema_version": 3,
     "solution": true,
     "task": false
    }
   },
   "outputs": [
    {
     "name": "stdout",
     "output_type": "stream",
     "text": [
      "Mean after adding 3: 95.33\n",
      "Standard deviation after adding 3: 7.35\n",
      "Mean after multiplying by 3: 277.00\n",
      "Standard deviation after multiplying by 3: 22.04\n"
     ]
    }
   ],
   "source": [
    "# Original values for mean and std from the previous task\n",
    "original_tmax_mean = 92.333\n",
    "original_tmax_std = 7.345340\n",
    "\n",
    "# 1. Adding 3 to every entry in the TMAX column\n",
    "new_tmax_add_3 = dfNorthglenn['TMAX'] + 3\n",
    "new_tmax_mean_add_3 = new_tmax_add_3.mean()\n",
    "new_tmax_std_add_3 = new_tmax_add_3.std()\n",
    "\n",
    "# 2. Multiplying every entry in the TMAX column by 3\n",
    "new_tmax_multiply_3 = dfNorthglenn['TMAX'] * 3\n",
    "new_tmax_mean_multiply_3 = new_tmax_multiply_3.mean()\n",
    "new_tmax_std_multiply_3 = new_tmax_multiply_3.std()\n",
    "\n",
    "# Print the results for all four computations\n",
    "print(f\"Mean after adding 3: {new_tmax_mean_add_3:.2f}\")\n",
    "print(f\"Standard deviation after adding 3: {new_tmax_std_add_3:.2f}\")\n",
    "\n",
    "print(f\"Mean after multiplying by 3: {new_tmax_mean_multiply_3:.2f}\")\n",
    "print(f\"Standard deviation after multiplying by 3: {new_tmax_std_multiply_3:.2f}\")\n",
    "\n"
   ]
  },
  {
   "cell_type": "code",
   "execution_count": null,
   "id": "6ae2197d",
   "metadata": {
    "deletable": false,
    "editable": false,
    "nbgrader": {
     "cell_type": "code",
     "checksum": "b0e27a9c557c03de4c892b1c70dd8651",
     "grade": true,
     "grade_id": "cell-aaed7559faac026f",
     "locked": true,
     "points": 1,
     "schema_version": 3,
     "solution": false,
     "task": false
    }
   },
   "outputs": [],
   "source": []
  },
  {
   "cell_type": "markdown",
   "id": "ae85dfaa-91fb-4fe6-99ee-775cb0fb892f",
   "metadata": {
    "deletable": false,
    "editable": false,
    "nbgrader": {
     "cell_type": "markdown",
     "checksum": "0148ed5e6dcc8c5f2cd0f4b2c49805e1",
     "grade": false,
     "grade_id": "cell-85026ee5e4ae1310",
     "locked": true,
     "schema_version": 3,
     "solution": false,
     "task": false
    }
   },
   "source": [
    "See if you can prove that your guess works in general mathematically using the formulas for the two statistics: For your personal work, education and observation. Not graded.\n",
    "\n",
    "$$\n",
    "\\bar{x} = \\frac{1}{n} \\displaystyle\\sum_{k=1}^n x_k \\quad \\quad \\textrm{and} \\quad \\quad s = \\sqrt{\\frac{1}{n-1} \\sum_{k=1}^n \\left( x_k - \\bar{x}\\right)^2} \n",
    "$$\n",
    "\n",
    "**Solution**: \n",
    "\n",
    "**The Mean with Addition**: It appears that when we add a constant to each observation the constant also gets added to the mean.  We can show this in general as follows.  Let $y_k = x_k + a$ be the shifted observations.  We then have  \n",
    "\n",
    "\n",
    "$$\n",
    "\\bar{y} = \\frac{1}{n} \\sum_{k=1}^n y_k \\quad = \\quad \\frac{1}{n} \\sum_{k=1}^n (x_k + a) \\quad = \\quad \n",
    "\\frac{1}{n} \\sum_{k=1}^n x_k  + \\frac{1}{n} \\sum_{k=1}^n a \n",
    "\\quad = \\quad \\bar{x}  + \\frac{1}{n} \\cdot an \n",
    "\\quad = \\quad \\bar{x}  + a \n",
    "$$\n",
    "\n",
    "**The Std Dev with Addition**: On the contary, it appears that the standard deviation stays the same when we add a constant to each observation.  This should make intuitive sense because the std dev is a measure of the spread of the data, and by adding a constant to each observation we're just shifting things down the number line.  Let's see if we can use the formula for std dev to confirm this mathematically. \n",
    "\n",
    "$$\n",
    "\\sqrt{\\frac{1}{n-1}\\sum_{k=1}^n \\left( y_k - \\bar{y} \\right)^2 } \\quad = \\quad \n",
    "\\sqrt{\\frac{1}{n-1}\\sum_{k=1}^n \\left[ (x_k + a) - (\\bar{x}+a) \\right]^2 } \\quad = \\quad \n",
    "\\sqrt{\\frac{1}{n-1}\\sum_{k=1}^n \\left( x_k - \\bar{x} \\right)^2 } \n",
    "$$\n",
    "\n",
    "We thus see that the standard deviation of both the $x$'s and the  $y$'s are the same. \n",
    "\n",
    "**The Mean with Multiplication**: When we multiply each observation by a constant the mean also gets multiplied by the constant.  We can show this in general as follows.  Let $z_k = b \\cdot x_k$ be the multiplied observations.  We then have  \n",
    "\n",
    "\n",
    "$$\n",
    "\\bar{z} = \\frac{1}{n} \\sum_{k=1}^n z_k \\quad = \\quad \\frac{1}{n} \\sum_{k=1}^n b \\cdot x_k  \\quad = \\quad \n",
    "b \\cdot \\frac{1}{n} \\sum_{k=1}^n x_k  \n",
    "\\quad = \\quad b\\cdot \\bar{x}  \n",
    "$$\n",
    "\n",
    "**The Std Dev with Addition**: Further, std dev gets multiplied by the constant.  Let's see \n",
    "\n",
    "$$\n",
    "\\sqrt{\\frac{1}{n-1}\\sum_{k=1}^n \\left( z_k - \\bar{z} \\right)^2 } \\quad = \\quad \n",
    "\\sqrt{\\frac{1}{n-1}\\sum_{k=1}^n \\left( b\\cdot x_k - b\\cdot \\bar{x} \\right)^2 } \\quad = \\quad \n",
    "\\sqrt{\\frac{1}{n-1}\\sum_{k=1}^n b^2 \\cdot \\left( x_k - \\bar{x} \\right)^2 } \\quad = \\quad \n",
    "b\\cdot \\sqrt{\\frac{1}{n-1}\\sum_{k=1}^n  \\left( x_k - \\bar{x} \\right)^2 } \n",
    "$$\n",
    "\n",
    "This has thus been Confirmed."
   ]
  },
  {
   "cell_type": "markdown",
   "id": "247638dc-cb24-45ab-98cc-7f1d41f1d3a3",
   "metadata": {
    "deletable": false,
    "editable": false,
    "nbgrader": {
     "cell_type": "markdown",
     "checksum": "660fb7e01aeb1ca7d3c188562c437d4f",
     "grade": false,
     "grade_id": "cell-e3774c95e3f6bbe1",
     "locked": true,
     "schema_version": 3,
     "solution": false,
     "task": false
    }
   },
   "source": [
    "### Exercise 5 \n",
    "***\n",
    "Let us now apply a common transformation to the **TMAX** and **TMIN** columns by converting the temperatures from Fahrenheit to Celsius.  Remember that the transformation is given by: \n",
    "\n",
    "$$\n",
    "\\textrm{CELSIUS} = \\frac{5}{9} (\\textrm{FAHRENHEIT}-32) \n",
    "$$\n",
    "\n",
    "First, use the Fahrenheit data in columns **TMAX** and **TMIN** to create Celsius columns in the `Northglenn` DataFrame called **TMAX-C** and **TMIN-C**. Use the `.loc` function to achieve this and print out your results using `dfNorthglenn.head()`."
   ]
  },
  {
   "cell_type": "code",
   "execution_count": 14,
   "id": "53648259-0987-4db6-92a1-bdf7919becf6",
   "metadata": {
    "deletable": false,
    "nbgrader": {
     "cell_type": "code",
     "checksum": "fd9d4eed37f42ec5d0e133df6147ab71",
     "grade": false,
     "grade_id": "cell-25534825e099f01a",
     "locked": false,
     "schema_version": 3,
     "solution": true,
     "task": false
    }
   },
   "outputs": [
    {
     "data": {
      "text/html": [
       "<div>\n",
       "<style scoped>\n",
       "    .dataframe tbody tr th:only-of-type {\n",
       "        vertical-align: middle;\n",
       "    }\n",
       "\n",
       "    .dataframe tbody tr th {\n",
       "        vertical-align: top;\n",
       "    }\n",
       "\n",
       "    .dataframe thead th {\n",
       "        text-align: right;\n",
       "    }\n",
       "</style>\n",
       "<table border=\"1\" class=\"dataframe\">\n",
       "  <thead>\n",
       "    <tr style=\"text-align: right;\">\n",
       "      <th></th>\n",
       "      <th>STATION</th>\n",
       "      <th>NAME</th>\n",
       "      <th>DATE</th>\n",
       "      <th>PRCP</th>\n",
       "      <th>TMAX</th>\n",
       "      <th>TMIN</th>\n",
       "      <th>TMAX-C</th>\n",
       "      <th>TMIN-C</th>\n",
       "    </tr>\n",
       "  </thead>\n",
       "  <tbody>\n",
       "    <tr>\n",
       "      <th>184</th>\n",
       "      <td>USC00055984</td>\n",
       "      <td>NORTHGLENN, CO US</td>\n",
       "      <td>2017-07-01</td>\n",
       "      <td>0.0</td>\n",
       "      <td>74.0</td>\n",
       "      <td>51.0</td>\n",
       "      <td>23.333333</td>\n",
       "      <td>10.555556</td>\n",
       "    </tr>\n",
       "    <tr>\n",
       "      <th>185</th>\n",
       "      <td>USC00055984</td>\n",
       "      <td>NORTHGLENN, CO US</td>\n",
       "      <td>2017-07-02</td>\n",
       "      <td>0.0</td>\n",
       "      <td>91.0</td>\n",
       "      <td>55.0</td>\n",
       "      <td>32.777778</td>\n",
       "      <td>12.777778</td>\n",
       "    </tr>\n",
       "    <tr>\n",
       "      <th>186</th>\n",
       "      <td>USC00055984</td>\n",
       "      <td>NORTHGLENN, CO US</td>\n",
       "      <td>2017-07-03</td>\n",
       "      <td>0.0</td>\n",
       "      <td>91.0</td>\n",
       "      <td>57.0</td>\n",
       "      <td>32.777778</td>\n",
       "      <td>13.888889</td>\n",
       "    </tr>\n",
       "    <tr>\n",
       "      <th>187</th>\n",
       "      <td>USC00055984</td>\n",
       "      <td>NORTHGLENN, CO US</td>\n",
       "      <td>2017-07-04</td>\n",
       "      <td>0.0</td>\n",
       "      <td>91.0</td>\n",
       "      <td>56.0</td>\n",
       "      <td>32.777778</td>\n",
       "      <td>13.333333</td>\n",
       "    </tr>\n",
       "    <tr>\n",
       "      <th>188</th>\n",
       "      <td>USC00055984</td>\n",
       "      <td>NORTHGLENN, CO US</td>\n",
       "      <td>2017-07-05</td>\n",
       "      <td>0.0</td>\n",
       "      <td>96.0</td>\n",
       "      <td>56.0</td>\n",
       "      <td>35.555556</td>\n",
       "      <td>13.333333</td>\n",
       "    </tr>\n",
       "  </tbody>\n",
       "</table>\n",
       "</div>"
      ],
      "text/plain": [
       "         STATION               NAME        DATE  PRCP  TMAX  TMIN     TMAX-C  \\\n",
       "184  USC00055984  NORTHGLENN, CO US  2017-07-01   0.0  74.0  51.0  23.333333   \n",
       "185  USC00055984  NORTHGLENN, CO US  2017-07-02   0.0  91.0  55.0  32.777778   \n",
       "186  USC00055984  NORTHGLENN, CO US  2017-07-03   0.0  91.0  57.0  32.777778   \n",
       "187  USC00055984  NORTHGLENN, CO US  2017-07-04   0.0  91.0  56.0  32.777778   \n",
       "188  USC00055984  NORTHGLENN, CO US  2017-07-05   0.0  96.0  56.0  35.555556   \n",
       "\n",
       "        TMIN-C  \n",
       "184  10.555556  \n",
       "185  12.777778  \n",
       "186  13.888889  \n",
       "187  13.333333  \n",
       "188  13.333333  "
      ]
     },
     "execution_count": 14,
     "metadata": {},
     "output_type": "execute_result"
    }
   ],
   "source": [
    "# Apply the Fahrenheit to Celsius conversion to the TMAX and TMIN columns\n",
    "dfNorthglenn.loc[:, 'TMAX-C'] = (5/9) * (dfNorthglenn['TMAX'] - 32)\n",
    "dfNorthglenn.loc[:, 'TMIN-C'] = (5/9) * (dfNorthglenn['TMIN'] - 32)\n",
    "\n",
    "# Display the first few rows of the updated DataFrame\n",
    "dfNorthglenn.head()\n"
   ]
  },
  {
   "cell_type": "code",
   "execution_count": null,
   "id": "f14fea02",
   "metadata": {
    "deletable": false,
    "editable": false,
    "nbgrader": {
     "cell_type": "code",
     "checksum": "d0f413aa1e5c490307c67f7c3a10af58",
     "grade": true,
     "grade_id": "cell-30f4f2cd9357af41",
     "locked": true,
     "points": 1,
     "schema_version": 3,
     "solution": false,
     "task": false
    }
   },
   "outputs": [],
   "source": []
  },
  {
   "cell_type": "markdown",
   "id": "3faa679a-6a02-44ad-8067-f16326fce5ad",
   "metadata": {
    "deletable": false,
    "editable": false,
    "nbgrader": {
     "cell_type": "markdown",
     "checksum": "6551f560ba8f6acda6f567d799ff365d",
     "grade": false,
     "grade_id": "cell-f58a7253a3c9b710",
     "locked": true,
     "schema_version": 3,
     "solution": false,
     "task": false
    }
   },
   "source": [
    "From the material from Exercise 4, what do you expect the mean and the standard deviation of the daily maximum temperature to be in Celsius?\n",
    "\n",
    "Calculate `y_min` and `y_max`. \n",
    "\n",
    "\n",
    "Let $\\bar{x}^{min}$ and $\\bar{x}^{max}$ represent the mean of **TMAX** and **TMIN** in Fahrenheit, respectively, then we expect the means of the associated values in Celsius to be `y_min` and `y_max`.  Use the following 2 formuuals for your calcuations.\n",
    "\n",
    "$$\n",
    "\\bar{y}^{min} = \\frac{5}{9}\\left( \\bar{x}^{min} - 32 \\right) \\\\\n",
    "\\bar{y}^{max} = \\frac{5}{9}\\left( \\bar{x}^{max} - 32 \\right)\n",
    "$$\n",
    "\n",
    "Your two output values should be of the form Calculate `y_min` and `y_max`. "
   ]
  },
  {
   "cell_type": "markdown",
   "id": "4b95a3d0-6037-4aef-b882-82bd72408888",
   "metadata": {
    "deletable": false,
    "editable": false,
    "nbgrader": {
     "cell_type": "markdown",
     "checksum": "e9bfe27300c182d48545b2d84a823004",
     "grade": false,
     "grade_id": "cell-d98d414f164509ca",
     "locked": true,
     "schema_version": 3,
     "solution": false,
     "task": false
    }
   },
   "source": [
    "Once you've done your calculation, see if you're right by applying the .mean( ) method to **TMAX-C** and **TMIN-C**. Your two output values should be `ybar_min` and `ybar_max`. Make sure again to use the `dfNorthglenn` data set. "
   ]
  },
  {
   "cell_type": "code",
   "execution_count": 15,
   "id": "5ecd8504-95eb-42ac-9668-d9ee56c8cb61",
   "metadata": {
    "deletable": false,
    "nbgrader": {
     "cell_type": "code",
     "checksum": "f797839131b9266e35931ba1703a19c1",
     "grade": false,
     "grade_id": "cell-85466493b031670f",
     "locked": false,
     "schema_version": 3,
     "solution": true,
     "task": false
    }
   },
   "outputs": [
    {
     "name": "stdout",
     "output_type": "stream",
     "text": [
      "Expected Mean Min Temp in Celsius = 33.518\n",
      "Expected Mean Max Temp in Celsius = -13.697\n",
      "Mean Min Temp in Celsius (from data) = 15.370\n",
      "Mean Max Temp in Celsius (from data) = 33.519\n"
     ]
    }
   ],
   "source": [
    "# Known mean values for TMAX and TMIN in Fahrenheit\n",
    "x_min = 92.333  # Mean of TMIN in Fahrenheit\n",
    "x_max = 7.345340  # Mean of TMAX in Fahrenheit (based on the previous given value)\n",
    "\n",
    "# Calculate expected mean temperatures in Celsius using the provided formulas\n",
    "y_min = (5/9) * (x_min - 32)\n",
    "y_max = (5/9) * (x_max - 32)\n",
    "\n",
    "# Now, let's calculate the actual mean values for TMAX-C and TMIN-C in the DataFrame\n",
    "ybar_min = dfNorthglenn['TMIN-C'].mean()\n",
    "ybar_max = dfNorthglenn['TMAX-C'].mean()\n",
    "\n",
    "# Print the results\n",
    "print(\"Expected Mean Min Temp in Celsius = {:.3f}\".format(y_min))\n",
    "print(\"Expected Mean Max Temp in Celsius = {:.3f}\".format(y_max))\n",
    "print(\"Mean Min Temp in Celsius (from data) = {:.3f}\".format(ybar_min))\n",
    "print(\"Mean Max Temp in Celsius (from data) = {:.3f}\".format(ybar_max))\n"
   ]
  },
  {
   "cell_type": "code",
   "execution_count": null,
   "id": "8d71034c",
   "metadata": {
    "deletable": false,
    "editable": false,
    "nbgrader": {
     "cell_type": "code",
     "checksum": "bb8a556dd2764c8619019e7804f9ba9b",
     "grade": true,
     "grade_id": "cell-ce001ed1b7d41557",
     "locked": true,
     "points": 1,
     "schema_version": 3,
     "solution": false,
     "task": false
    }
   },
   "outputs": [],
   "source": []
  },
  {
   "cell_type": "markdown",
   "id": "8b9a7b12-123b-43aa-aaa1-c4f317a60846",
   "metadata": {
    "deletable": false,
    "editable": false,
    "nbgrader": {
     "cell_type": "markdown",
     "checksum": "704977138c0bad4eb66ac499f366ede5",
     "grade": false,
     "grade_id": "cell-b7a776cac6394910",
     "locked": true,
     "schema_version": 3,
     "solution": false,
     "task": false
    }
   },
   "source": [
    "### Exercise 6 \n",
    "***\n",
    "\n",
    "(a) Compute the daily temperature range (max **minus** min) in Fahrenheit for each row in the `Northglenn` DataFrame and store it in a column called **TDIFF**.  Then answer these questions. Use the `iloc` function to do this. This is just one line of code. Display your results using the `dfNorthglenn.head()` output. \n",
    "\n",
    "(b)  What is the mean temperature difference over the month of July? \n",
    "\n",
    "(c)  What is the difference between the means of the max and min daily temperatures? \n",
    "\n",
    "(d)  Do you see a relationship between these two quantities?  If so, can you prove that it's always the case for mean difference and          difference of means? (open ended question). This will be show to you. "
   ]
  },
  {
   "cell_type": "code",
   "execution_count": 16,
   "id": "bb4e91bb",
   "metadata": {},
   "outputs": [
    {
     "data": {
      "text/plain": [
       "Index(['STATION', 'NAME', 'DATE', 'PRCP', 'TMAX', 'TMIN', 'TMAX-C', 'TMIN-C'], dtype='object')"
      ]
     },
     "execution_count": 16,
     "metadata": {},
     "output_type": "execute_result"
    }
   ],
   "source": [
    "dfNorthglenn.columns"
   ]
  },
  {
   "cell_type": "code",
   "execution_count": 17,
   "id": "e5f6e6db",
   "metadata": {},
   "outputs": [
    {
     "data": {
      "text/plain": [
       "184    2017-07-01\n",
       "185    2017-07-02\n",
       "186    2017-07-03\n",
       "187    2017-07-04\n",
       "188    2017-07-05\n",
       "189    2017-07-06\n",
       "190    2017-07-07\n",
       "191    2017-07-08\n",
       "192    2017-07-09\n",
       "193    2017-07-10\n",
       "194    2017-07-11\n",
       "195    2017-07-12\n",
       "196    2017-07-13\n",
       "197    2017-07-14\n",
       "198    2017-07-15\n",
       "199    2017-07-17\n",
       "200    2017-07-18\n",
       "201    2017-07-19\n",
       "202    2017-07-20\n",
       "203    2017-07-21\n",
       "204    2017-07-22\n",
       "205    2017-07-23\n",
       "206    2017-07-24\n",
       "207    2017-07-25\n",
       "208    2017-07-26\n",
       "209    2017-07-27\n",
       "210    2017-07-28\n",
       "211    2017-07-29\n",
       "212    2017-07-30\n",
       "213    2017-07-31\n",
       "Name: DATE, dtype: object"
      ]
     },
     "execution_count": 17,
     "metadata": {},
     "output_type": "execute_result"
    }
   ],
   "source": [
    "dfNorthglenn[\"DATE\"]"
   ]
  },
  {
   "cell_type": "code",
   "execution_count": 18,
   "id": "5d8e95cc-edc5-44ac-9b6e-387d39e67ba8",
   "metadata": {
    "deletable": false,
    "nbgrader": {
     "cell_type": "code",
     "checksum": "52297c42e039e2cd36c8591b582f98c4",
     "grade": false,
     "grade_id": "cell-2cc070ef0987435a",
     "locked": false,
     "schema_version": 3,
     "solution": true,
     "task": false
    }
   },
   "outputs": [
    {
     "data": {
      "text/html": [
       "<div>\n",
       "<style scoped>\n",
       "    .dataframe tbody tr th:only-of-type {\n",
       "        vertical-align: middle;\n",
       "    }\n",
       "\n",
       "    .dataframe tbody tr th {\n",
       "        vertical-align: top;\n",
       "    }\n",
       "\n",
       "    .dataframe thead th {\n",
       "        text-align: right;\n",
       "    }\n",
       "</style>\n",
       "<table border=\"1\" class=\"dataframe\">\n",
       "  <thead>\n",
       "    <tr style=\"text-align: right;\">\n",
       "      <th></th>\n",
       "      <th>STATION</th>\n",
       "      <th>NAME</th>\n",
       "      <th>DATE</th>\n",
       "      <th>PRCP</th>\n",
       "      <th>TMAX</th>\n",
       "      <th>TMIN</th>\n",
       "      <th>TMAX-C</th>\n",
       "      <th>TMIN-C</th>\n",
       "      <th>TDIFF</th>\n",
       "    </tr>\n",
       "  </thead>\n",
       "  <tbody>\n",
       "    <tr>\n",
       "      <th>184</th>\n",
       "      <td>USC00055984</td>\n",
       "      <td>NORTHGLENN, CO US</td>\n",
       "      <td>2017-07-01</td>\n",
       "      <td>0.0</td>\n",
       "      <td>74.0</td>\n",
       "      <td>51.0</td>\n",
       "      <td>23.333333</td>\n",
       "      <td>10.555556</td>\n",
       "      <td>23.0</td>\n",
       "    </tr>\n",
       "    <tr>\n",
       "      <th>185</th>\n",
       "      <td>USC00055984</td>\n",
       "      <td>NORTHGLENN, CO US</td>\n",
       "      <td>2017-07-02</td>\n",
       "      <td>0.0</td>\n",
       "      <td>91.0</td>\n",
       "      <td>55.0</td>\n",
       "      <td>32.777778</td>\n",
       "      <td>12.777778</td>\n",
       "      <td>36.0</td>\n",
       "    </tr>\n",
       "    <tr>\n",
       "      <th>186</th>\n",
       "      <td>USC00055984</td>\n",
       "      <td>NORTHGLENN, CO US</td>\n",
       "      <td>2017-07-03</td>\n",
       "      <td>0.0</td>\n",
       "      <td>91.0</td>\n",
       "      <td>57.0</td>\n",
       "      <td>32.777778</td>\n",
       "      <td>13.888889</td>\n",
       "      <td>34.0</td>\n",
       "    </tr>\n",
       "    <tr>\n",
       "      <th>187</th>\n",
       "      <td>USC00055984</td>\n",
       "      <td>NORTHGLENN, CO US</td>\n",
       "      <td>2017-07-04</td>\n",
       "      <td>0.0</td>\n",
       "      <td>91.0</td>\n",
       "      <td>56.0</td>\n",
       "      <td>32.777778</td>\n",
       "      <td>13.333333</td>\n",
       "      <td>35.0</td>\n",
       "    </tr>\n",
       "    <tr>\n",
       "      <th>188</th>\n",
       "      <td>USC00055984</td>\n",
       "      <td>NORTHGLENN, CO US</td>\n",
       "      <td>2017-07-05</td>\n",
       "      <td>0.0</td>\n",
       "      <td>96.0</td>\n",
       "      <td>56.0</td>\n",
       "      <td>35.555556</td>\n",
       "      <td>13.333333</td>\n",
       "      <td>40.0</td>\n",
       "    </tr>\n",
       "  </tbody>\n",
       "</table>\n",
       "</div>"
      ],
      "text/plain": [
       "         STATION               NAME        DATE  PRCP  TMAX  TMIN     TMAX-C  \\\n",
       "184  USC00055984  NORTHGLENN, CO US  2017-07-01   0.0  74.0  51.0  23.333333   \n",
       "185  USC00055984  NORTHGLENN, CO US  2017-07-02   0.0  91.0  55.0  32.777778   \n",
       "186  USC00055984  NORTHGLENN, CO US  2017-07-03   0.0  91.0  57.0  32.777778   \n",
       "187  USC00055984  NORTHGLENN, CO US  2017-07-04   0.0  91.0  56.0  32.777778   \n",
       "188  USC00055984  NORTHGLENN, CO US  2017-07-05   0.0  96.0  56.0  35.555556   \n",
       "\n",
       "        TMIN-C  TDIFF  \n",
       "184  10.555556   23.0  \n",
       "185  12.777778   36.0  \n",
       "186  13.888889   34.0  \n",
       "187  13.333333   35.0  \n",
       "188  13.333333   40.0  "
      ]
     },
     "execution_count": 18,
     "metadata": {},
     "output_type": "execute_result"
    }
   ],
   "source": [
    "# Compute the daily temperature range (TMAX - TMIN) and store it in a new column 'TDIFF'\n",
    "dfNorthglenn.loc[:, 'TDIFF'] = dfNorthglenn['TMAX'] - dfNorthglenn['TMIN']\n",
    "\n",
    "# Display the first few rows to verify the new column\n",
    "dfNorthglenn.head()\n"
   ]
  },
  {
   "cell_type": "code",
   "execution_count": null,
   "id": "4ea2859a",
   "metadata": {
    "deletable": false,
    "editable": false,
    "nbgrader": {
     "cell_type": "code",
     "checksum": "1d1f42ed32c0a3a551e76175b9c6a128",
     "grade": true,
     "grade_id": "cell-cbaf3eeb5abb3f72",
     "locked": true,
     "points": 1,
     "schema_version": 3,
     "solution": false,
     "task": false
    }
   },
   "outputs": [],
   "source": []
  },
  {
   "cell_type": "markdown",
   "id": "0ebe770e-e873-4969-ac8c-ca2bdb484869",
   "metadata": {
    "deletable": false,
    "editable": false,
    "nbgrader": {
     "cell_type": "markdown",
     "checksum": "1783ab388b477d8d802af37f57f0cfab",
     "grade": false,
     "grade_id": "cell-3640f0240f3e114a",
     "locked": true,
     "schema_version": 3,
     "solution": false,
     "task": false
    }
   },
   "source": [
    "To compute the mean temperature difference we just need to compute the mean of the **TDIFF** column we just created. Use the output `mean_diff` and run the line of code `print(\"Mean Temp Diff = {:.3f}\".format(mean_diff))` to print out youre result!"
   ]
  },
  {
   "cell_type": "code",
   "execution_count": 19,
   "id": "41e34240-89dd-46b1-be36-acc47e1b5cda",
   "metadata": {
    "deletable": false,
    "nbgrader": {
     "cell_type": "code",
     "checksum": "757f116d2295ceffa6c5d909aad93524",
     "grade": false,
     "grade_id": "cell-cc80c37b374810e1",
     "locked": false,
     "schema_version": 3,
     "solution": true,
     "task": false
    }
   },
   "outputs": [
    {
     "name": "stdout",
     "output_type": "stream",
     "text": [
      "Mean Temp Diff = 32.667\n"
     ]
    }
   ],
   "source": [
    "# PART B\n",
    "# Calculate the mean temperature difference (mean of TDIFF)\n",
    "mean_diff = dfNorthglenn['TDIFF'].mean()\n",
    "\n",
    "print(\"Mean Temp Diff = {:.3f}\".format(mean_diff))\n"
   ]
  },
  {
   "cell_type": "code",
   "execution_count": null,
   "id": "585264e2",
   "metadata": {
    "deletable": false,
    "editable": false,
    "nbgrader": {
     "cell_type": "code",
     "checksum": "72929c62fd3abc873f1387ac51416094",
     "grade": true,
     "grade_id": "cell-c839564719aeb68f",
     "locked": true,
     "points": 1,
     "schema_version": 3,
     "solution": false,
     "task": false
    }
   },
   "outputs": [],
   "source": []
  },
  {
   "cell_type": "markdown",
   "id": "6a8715fa-609d-42b4-898f-8c8a120ef9f8",
   "metadata": {
    "deletable": false,
    "editable": false,
    "nbgrader": {
     "cell_type": "markdown",
     "checksum": "764352825d546a01d741a0c10cfe5c5c",
     "grade": false,
     "grade_id": "cell-5589c256ddaef6cb",
     "locked": true,
     "schema_version": 3,
     "solution": false,
     "task": false
    }
   },
   "source": [
    "You now compute the difference of the **max** and **min** temperature means from the `dfNorthglenn` data frame. Use the output `diff_of_means` and print your results out with the following line of code `print(\"Diff of Mean Temps = {:.3f}\".format(diff_of_means))`"
   ]
  },
  {
   "cell_type": "code",
   "execution_count": 20,
   "id": "aa3f5606-e34e-4611-97b9-e34560298d53",
   "metadata": {
    "deletable": false,
    "nbgrader": {
     "cell_type": "code",
     "checksum": "65778de27008db57c8e0d50d888b1899",
     "grade": false,
     "grade_id": "cell-36c4dcd51e8420c5",
     "locked": false,
     "schema_version": 3,
     "solution": true,
     "task": false
    }
   },
   "outputs": [
    {
     "name": "stdout",
     "output_type": "stream",
     "text": [
      "Diff of Mean Temps = 32.667\n"
     ]
    }
   ],
   "source": [
    "# PART C\n",
    "# Calculate the difference between the means of TMAX and TMIN\n",
    "mean_max_temp = dfNorthglenn['TMAX'].mean()\n",
    "mean_min_temp = dfNorthglenn['TMIN'].mean()\n",
    "\n",
    "# Calculate the difference\n",
    "diff_of_means = mean_max_temp - mean_min_temp\n",
    "\n",
    "print(\"Diff of Mean Temps = {:.3f}\".format(diff_of_means))"
   ]
  },
  {
   "cell_type": "code",
   "execution_count": null,
   "id": "50a20a07",
   "metadata": {
    "deletable": false,
    "editable": false,
    "nbgrader": {
     "cell_type": "code",
     "checksum": "56070dc5dcc58cfc3498433abf91902c",
     "grade": true,
     "grade_id": "cell-bce9a80fc3a7cf3f",
     "locked": true,
     "points": 1,
     "schema_version": 3,
     "solution": false,
     "task": false
    }
   },
   "outputs": [],
   "source": []
  }
 ],
 "metadata": {
  "kernelspec": {
   "display_name": "Python 3 (ipykernel)",
   "language": "python",
   "name": "python3"
  },
  "language_info": {
   "codemirror_mode": {
    "name": "ipython",
    "version": 3
   },
   "file_extension": ".py",
   "mimetype": "text/x-python",
   "name": "python",
   "nbconvert_exporter": "python",
   "pygments_lexer": "ipython3",
   "version": "3.10.6"
  }
 },
 "nbformat": 4,
 "nbformat_minor": 5
}
