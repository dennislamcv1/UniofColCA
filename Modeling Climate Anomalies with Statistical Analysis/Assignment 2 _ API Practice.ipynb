{
 "cells": [
  {
   "cell_type": "markdown",
   "metadata": {},
   "source": [
    "### Assignment 2: API Hands-On\n",
    "\n",
    "In this lab, you will learn how to use the Python requests library to make API calls. You will practice retrieving data from a public API, processing the response, and extracting useful information. This exercise will help you understand how to interact with web services programmatically and integrate external data into your Python projects.\n",
    "\n",
    "After completing the lab, you will take a short quiz to assess your understanding of making API calls with Python and interpreting the results. The quiz will include questions about the API you used, the data you retrieved, and the techniques you implemented for error handling and data processing. Ensure you have your code and results ready, as you may need to reference them during the quiz.\n",
    "\n",
    "For this lab you will need the Python library `requests` installed.\n",
    "\n",
    "#### Import Libraries"
   ]
  },
  {
   "cell_type": "code",
   "execution_count": 12,
   "metadata": {},
   "outputs": [],
   "source": [
    "import requests\n",
    "import pandas as pd"
   ]
  },
  {
   "cell_type": "markdown",
   "metadata": {},
   "source": [
    "#### Question 1\n",
    "\n",
    "[Data USA](https://datausa.io/) pulls together public US Government data into an open, easy-to-use platform. For the first exercise make an api call to the following url and print the response status code. Once you have printed the request status code, [review your code and other codes](https://developer.mozilla.org/en-US/docs/Web/HTTP/Status) to see what your code means. "
   ]
  },
  {
   "cell_type": "code",
   "execution_count": 13,
   "metadata": {},
   "outputs": [
    {
     "name": "stdout",
     "output_type": "stream",
     "text": [
      "200\n"
     ]
    }
   ],
   "source": [
    "url = \"https://datausa.io/api/data?drilldowns=Nation&measures=Population\"\n",
    "response = requests.get(url)\n",
    "\n",
    "## Check response status code\n",
    "print(response.status_code)"
   ]
  },
  {
   "cell_type": "markdown",
   "metadata": {},
   "source": [
    "#### Question 2\n",
    "\n",
    "Once you have a successful API call, use the `josn()` method to fetch data from the API and print the data. Note the returned json contains two names, data and source; you should only print the values from data. "
   ]
  },
  {
   "cell_type": "code",
   "execution_count": 14,
   "metadata": {},
   "outputs": [
    {
     "name": "stdout",
     "output_type": "stream",
     "text": [
      "[{'ID Nation': '01000US', 'Nation': 'United States', 'ID Year': 2022, 'Year': '2022', 'Population': 331097593, 'Slug Nation': 'united-states'}, {'ID Nation': '01000US', 'Nation': 'United States', 'ID Year': 2021, 'Year': '2021', 'Population': 329725481, 'Slug Nation': 'united-states'}, {'ID Nation': '01000US', 'Nation': 'United States', 'ID Year': 2020, 'Year': '2020', 'Population': 326569308, 'Slug Nation': 'united-states'}, {'ID Nation': '01000US', 'Nation': 'United States', 'ID Year': 2019, 'Year': '2019', 'Population': 324697795, 'Slug Nation': 'united-states'}, {'ID Nation': '01000US', 'Nation': 'United States', 'ID Year': 2018, 'Year': '2018', 'Population': 322903030, 'Slug Nation': 'united-states'}, {'ID Nation': '01000US', 'Nation': 'United States', 'ID Year': 2017, 'Year': '2017', 'Population': 321004407, 'Slug Nation': 'united-states'}, {'ID Nation': '01000US', 'Nation': 'United States', 'ID Year': 2016, 'Year': '2016', 'Population': 318558162, 'Slug Nation': 'united-states'}, {'ID Nation': '01000US', 'Nation': 'United States', 'ID Year': 2015, 'Year': '2015', 'Population': 316515021, 'Slug Nation': 'united-states'}, {'ID Nation': '01000US', 'Nation': 'United States', 'ID Year': 2014, 'Year': '2014', 'Population': 314107084, 'Slug Nation': 'united-states'}, {'ID Nation': '01000US', 'Nation': 'United States', 'ID Year': 2013, 'Year': '2013', 'Population': 311536594, 'Slug Nation': 'united-states'}]\n"
     ]
    }
   ],
   "source": [
    "if response.status_code == 200:\n",
    "    data = response.json()[\"data\"]\n",
    "else:\n",
    "    print(\"Failed to retrieve data\")\n",
    "    \n",
    "print(data) #Remember to only print the \"data\" portion of the JSON."
   ]
  },
  {
   "cell_type": "markdown",
   "metadata": {},
   "source": [
    "#### Question 3\n",
    "\n",
    "Next, use your json data to create a pandas dataframe using the `json_normalize()` method. "
   ]
  },
  {
   "cell_type": "code",
   "execution_count": 15,
   "metadata": {},
   "outputs": [
    {
     "name": "stdout",
     "output_type": "stream",
     "text": [
      "  ID Nation         Nation  ID Year  Year  Population    Slug Nation\n",
      "0   01000US  United States     2022  2022   331097593  united-states\n",
      "1   01000US  United States     2021  2021   329725481  united-states\n",
      "2   01000US  United States     2020  2020   326569308  united-states\n",
      "3   01000US  United States     2019  2019   324697795  united-states\n",
      "4   01000US  United States     2018  2018   322903030  united-states\n",
      "5   01000US  United States     2017  2017   321004407  united-states\n",
      "6   01000US  United States     2016  2016   318558162  united-states\n",
      "7   01000US  United States     2015  2015   316515021  united-states\n",
      "8   01000US  United States     2014  2014   314107084  united-states\n",
      "9   01000US  United States     2013  2013   311536594  united-states\n"
     ]
    }
   ],
   "source": [
    "df = pd.json_normalize(data)\n",
    "\n",
    "print(df)"
   ]
  },
  {
   "cell_type": "code",
   "execution_count": null,
   "metadata": {},
   "outputs": [],
   "source": []
  }
 ],
 "metadata": {
  "kernelspec": {
   "display_name": "base",
   "language": "python",
   "name": "python3"
  },
  "language_info": {
   "codemirror_mode": {
    "name": "ipython",
    "version": 3
   },
   "file_extension": ".py",
   "mimetype": "text/x-python",
   "name": "python",
   "nbconvert_exporter": "python",
   "pygments_lexer": "ipython3",
   "version": "3.10.9"
  }
 },
 "nbformat": 4,
 "nbformat_minor": 2
}
