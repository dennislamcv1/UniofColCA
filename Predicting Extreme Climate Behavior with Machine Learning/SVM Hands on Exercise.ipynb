{
 "cells": [
  {
   "cell_type": "markdown",
   "id": "67e9fb8b-c288-4ab4-aff7-bb4434e126a1",
   "metadata": {
    "deletable": false,
    "editable": false,
    "nbgrader": {
     "cell_type": "markdown",
     "checksum": "9bd8d50a6094b34ef467833e2fd4960d",
     "grade": false,
     "grade_id": "cell-1a0cf2205a7d56cd",
     "locked": true,
     "schema_version": 3,
     "solution": false,
     "task": false
    }
   },
   "source": [
    "### SVM Hands on Exercise "
   ]
  },
  {
   "cell_type": "code",
   "execution_count": 1,
   "id": "a208219c-ef6d-43ad-bd0f-f92c418c6d47",
   "metadata": {
    "deletable": false,
    "editable": false,
    "nbgrader": {
     "cell_type": "code",
     "checksum": "dcacd82078d1a24f63a85ed3be842430",
     "grade": false,
     "grade_id": "cell-d919e9161efdd6cd",
     "locked": true,
     "schema_version": 3,
     "solution": false,
     "task": false
    }
   },
   "outputs": [],
   "source": [
    "# Importing the libraries\n",
    "\n",
    "import pandas as pd\n",
    "import numpy as np\n",
    "import matplotlib.pyplot as plt\n",
    "\n",
    "from sklearn.preprocessing import StandardScaler\n",
    "from sklearn.model_selection import train_test_split\n",
    "\n",
    "from sklearn.svm import SVC\n",
    "from sklearn.model_selection import GridSearchCV\n",
    "from sklearn.metrics import confusion_matrix, ConfusionMatrixDisplay, accuracy_score, f1_score, recall_score\n",
    "import shap\n",
    "import pyarrow"
   ]
  },
  {
   "cell_type": "code",
   "execution_count": 2,
   "id": "a6f21440-1ace-4113-942f-8bf4d2d1343b",
   "metadata": {
    "deletable": false,
    "editable": false,
    "nbgrader": {
     "cell_type": "code",
     "checksum": "9b67064711333817e7a9cbece60e801b",
     "grade": false,
     "grade_id": "cell-dce586b782a95025",
     "locked": true,
     "schema_version": 3,
     "solution": false,
     "task": false
    }
   },
   "outputs": [],
   "source": [
    "# Reading the dataset\n",
    "df = pd.read_parquet('final_dataset.parquet')\n",
    "\n",
    "# Replacing NaN values with 0\n",
    "df = df.fillna(0)"
   ]
  },
  {
   "cell_type": "code",
   "execution_count": 3,
   "id": "d67b05b0-8f7f-4cea-8ea4-ec1d0186838f",
   "metadata": {
    "deletable": false,
    "editable": false,
    "nbgrader": {
     "cell_type": "code",
     "checksum": "5dfbda13dd3c2605ab5c853e1e45ebfb",
     "grade": false,
     "grade_id": "cell-5bccce8509aed120",
     "locked": true,
     "schema_version": 3,
     "solution": false,
     "task": false
    }
   },
   "outputs": [
    {
     "data": {
      "text/html": [
       "<div>\n",
       "<style scoped>\n",
       "    .dataframe tbody tr th:only-of-type {\n",
       "        vertical-align: middle;\n",
       "    }\n",
       "\n",
       "    .dataframe tbody tr th {\n",
       "        vertical-align: top;\n",
       "    }\n",
       "\n",
       "    .dataframe thead th {\n",
       "        text-align: right;\n",
       "    }\n",
       "</style>\n",
       "<table border=\"1\" class=\"dataframe\">\n",
       "  <thead>\n",
       "    <tr style=\"text-align: right;\">\n",
       "      <th></th>\n",
       "      <th>date</th>\n",
       "      <th>precip</th>\n",
       "      <th>max_temp</th>\n",
       "      <th>min_temp</th>\n",
       "      <th>gwl</th>\n",
       "      <th>daily_discharge_cfs</th>\n",
       "      <th>sm_pca</th>\n",
       "      <th>st_pca</th>\n",
       "      <th>target</th>\n",
       "    </tr>\n",
       "  </thead>\n",
       "  <tbody>\n",
       "    <tr>\n",
       "      <th>0</th>\n",
       "      <td>2010-02-14</td>\n",
       "      <td>0.0</td>\n",
       "      <td>36</td>\n",
       "      <td>13</td>\n",
       "      <td>20.52</td>\n",
       "      <td>136.0</td>\n",
       "      <td>3.619512</td>\n",
       "      <td>0.190574</td>\n",
       "      <td>0</td>\n",
       "    </tr>\n",
       "    <tr>\n",
       "      <th>1</th>\n",
       "      <td>2010-02-15</td>\n",
       "      <td>0.0</td>\n",
       "      <td>41</td>\n",
       "      <td>7</td>\n",
       "      <td>20.51</td>\n",
       "      <td>129.0</td>\n",
       "      <td>3.470118</td>\n",
       "      <td>0.209177</td>\n",
       "      <td>0</td>\n",
       "    </tr>\n",
       "    <tr>\n",
       "      <th>2</th>\n",
       "      <td>2010-02-16</td>\n",
       "      <td>0.0</td>\n",
       "      <td>43</td>\n",
       "      <td>8</td>\n",
       "      <td>20.51</td>\n",
       "      <td>130.0</td>\n",
       "      <td>3.433721</td>\n",
       "      <td>0.197542</td>\n",
       "      <td>0</td>\n",
       "    </tr>\n",
       "    <tr>\n",
       "      <th>3</th>\n",
       "      <td>2010-02-17</td>\n",
       "      <td>0.0</td>\n",
       "      <td>51</td>\n",
       "      <td>10</td>\n",
       "      <td>20.51</td>\n",
       "      <td>132.0</td>\n",
       "      <td>3.351107</td>\n",
       "      <td>0.135033</td>\n",
       "      <td>0</td>\n",
       "    </tr>\n",
       "    <tr>\n",
       "      <th>4</th>\n",
       "      <td>2010-02-18</td>\n",
       "      <td>0.0</td>\n",
       "      <td>51</td>\n",
       "      <td>16</td>\n",
       "      <td>20.50</td>\n",
       "      <td>135.0</td>\n",
       "      <td>3.238121</td>\n",
       "      <td>0.107690</td>\n",
       "      <td>0</td>\n",
       "    </tr>\n",
       "  </tbody>\n",
       "</table>\n",
       "</div>"
      ],
      "text/plain": [
       "        date  precip  max_temp  min_temp    gwl  daily_discharge_cfs  \\\n",
       "0 2010-02-14     0.0        36        13  20.52                136.0   \n",
       "1 2010-02-15     0.0        41         7  20.51                129.0   \n",
       "2 2010-02-16     0.0        43         8  20.51                130.0   \n",
       "3 2010-02-17     0.0        51        10  20.51                132.0   \n",
       "4 2010-02-18     0.0        51        16  20.50                135.0   \n",
       "\n",
       "     sm_pca    st_pca  target  \n",
       "0  3.619512  0.190574       0  \n",
       "1  3.470118  0.209177       0  \n",
       "2  3.433721  0.197542       0  \n",
       "3  3.351107  0.135033       0  \n",
       "4  3.238121  0.107690       0  "
      ]
     },
     "execution_count": 3,
     "metadata": {},
     "output_type": "execute_result"
    }
   ],
   "source": [
    "df.head()"
   ]
  },
  {
   "cell_type": "code",
   "execution_count": 4,
   "id": "03a578c5-01e9-4802-932d-d496227632c5",
   "metadata": {
    "deletable": false,
    "editable": false,
    "nbgrader": {
     "cell_type": "code",
     "checksum": "98373937b8930b917a0423cb3aeb215c",
     "grade": false,
     "grade_id": "cell-4d4b44e4b3b2170b",
     "locked": true,
     "schema_version": 3,
     "solution": false,
     "task": false
    }
   },
   "outputs": [
    {
     "data": {
      "image/png": "[encoded data removed]",
      "text/plain": [
       "<Figure size 1000x600 with 1 Axes>"
      ]
     },
     "metadata": {},
     "output_type": "display_data"
    }
   ],
   "source": [
    "# Visualizing where target variable is 1 i.e there is drought\n",
    "\n",
    "plt.figure(figsize=(10, 6))\n",
    "plt.scatter(df[df['target'] == 1]['date'], df[df['target'] == 1]['target'])\n",
    "plt.title('Drought occurance')\n",
    "plt.xlabel('Date')\n",
    "plt.ylabel('Drought Condition as 1')\n",
    "plt.show()"
   ]
  },
  {
   "cell_type": "code",
   "execution_count": 5,
   "id": "7463897f-2d4e-40f6-b404-ba50a67636c6",
   "metadata": {
    "deletable": false,
    "editable": false,
    "nbgrader": {
     "cell_type": "code",
     "checksum": "673acccf2317414e03c7fa543ddb0248",
     "grade": false,
     "grade_id": "cell-999298b96df335f1",
     "locked": true,
     "schema_version": 3,
     "solution": false,
     "task": false
    }
   },
   "outputs": [],
   "source": [
    "# following are the features list\n",
    "\n",
    "features = ['precip', 'max_temp', 'min_temp', 'gwl', 'daily_discharge_cfs','sm_pca', 'st_pca']\n",
    "target = 'target'"
   ]
  },
  {
   "cell_type": "code",
   "execution_count": 6,
   "id": "199c1b5f-7af8-4ad6-8ccf-ff7cb12d9f20",
   "metadata": {
    "deletable": false,
    "editable": false,
    "nbgrader": {
     "cell_type": "code",
     "checksum": "1e87b3ee3c5524577aef4bf73abd37e2",
     "grade": false,
     "grade_id": "cell-027267a5d88680f3",
     "locked": true,
     "schema_version": 3,
     "solution": false,
     "task": false
    }
   },
   "outputs": [
    {
     "data": {
      "text/html": [
       "<style type=\"text/css\">\n",
       "#T_d5195_row0_col0, #T_d5195_row1_col1, #T_d5195_row2_col2, #T_d5195_row3_col3, #T_d5195_row4_col4, #T_d5195_row5_col5, #T_d5195_row6_col6 {\n",
       "  background-color: #b40426;\n",
       "  color: #f1f1f1;\n",
       "}\n",
       "#T_d5195_row0_col1 {\n",
       "  background-color: #8fb1fe;\n",
       "  color: #000000;\n",
       "}\n",
       "#T_d5195_row0_col2 {\n",
       "  background-color: #b5cdfa;\n",
       "  color: #000000;\n",
       "}\n",
       "#T_d5195_row0_col3 {\n",
       "  background-color: #9dbdff;\n",
       "  color: #000000;\n",
       "}\n",
       "#T_d5195_row0_col4 {\n",
       "  background-color: #8caffe;\n",
       "  color: #000000;\n",
       "}\n",
       "#T_d5195_row0_col5, #T_d5195_row4_col3 {\n",
       "  background-color: #94b6ff;\n",
       "  color: #000000;\n",
       "}\n",
       "#T_d5195_row0_col6 {\n",
       "  background-color: #a2c1ff;\n",
       "  color: #000000;\n",
       "}\n",
       "#T_d5195_row1_col0, #T_d5195_row2_col5, #T_d5195_row3_col4, #T_d5195_row3_col6, #T_d5195_row5_col1, #T_d5195_row5_col2, #T_d5195_row6_col3 {\n",
       "  background-color: #3b4cc0;\n",
       "  color: #f1f1f1;\n",
       "}\n",
       "#T_d5195_row1_col2, #T_d5195_row2_col1 {\n",
       "  background-color: #d65244;\n",
       "  color: #f1f1f1;\n",
       "}\n",
       "#T_d5195_row1_col3 {\n",
       "  background-color: #b1cbfc;\n",
       "  color: #000000;\n",
       "}\n",
       "#T_d5195_row1_col4, #T_d5195_row6_col1 {\n",
       "  background-color: #4e68d8;\n",
       "  color: #f1f1f1;\n",
       "}\n",
       "#T_d5195_row1_col5 {\n",
       "  background-color: #3d50c3;\n",
       "  color: #f1f1f1;\n",
       "}\n",
       "#T_d5195_row1_col6 {\n",
       "  background-color: #5a78e4;\n",
       "  color: #f1f1f1;\n",
       "}\n",
       "#T_d5195_row2_col0 {\n",
       "  background-color: #6485ec;\n",
       "  color: #f1f1f1;\n",
       "}\n",
       "#T_d5195_row2_col3 {\n",
       "  background-color: #adc9fd;\n",
       "  color: #000000;\n",
       "}\n",
       "#T_d5195_row2_col4 {\n",
       "  background-color: #6a8bef;\n",
       "  color: #f1f1f1;\n",
       "}\n",
       "#T_d5195_row2_col6 {\n",
       "  background-color: #536edd;\n",
       "  color: #f1f1f1;\n",
       "}\n",
       "#T_d5195_row3_col0, #T_d5195_row5_col0 {\n",
       "  background-color: #3c4ec2;\n",
       "  color: #f1f1f1;\n",
       "}\n",
       "#T_d5195_row3_col1, #T_d5195_row5_col3 {\n",
       "  background-color: #a7c5fe;\n",
       "  color: #000000;\n",
       "}\n",
       "#T_d5195_row3_col2, #T_d5195_row4_col6 {\n",
       "  background-color: #a6c4fe;\n",
       "  color: #000000;\n",
       "}\n",
       "#T_d5195_row3_col5 {\n",
       "  background-color: #9fbfff;\n",
       "  color: #000000;\n",
       "}\n",
       "#T_d5195_row4_col0 {\n",
       "  background-color: #86a9fc;\n",
       "  color: #f1f1f1;\n",
       "}\n",
       "#T_d5195_row4_col1 {\n",
       "  background-color: #9abbff;\n",
       "  color: #000000;\n",
       "}\n",
       "#T_d5195_row4_col2 {\n",
       "  background-color: #b3cdfb;\n",
       "  color: #000000;\n",
       "}\n",
       "#T_d5195_row4_col5 {\n",
       "  background-color: #a1c0ff;\n",
       "  color: #000000;\n",
       "}\n",
       "#T_d5195_row5_col4 {\n",
       "  background-color: #516ddb;\n",
       "  color: #f1f1f1;\n",
       "}\n",
       "#T_d5195_row5_col6 {\n",
       "  background-color: #e3d9d3;\n",
       "  color: #000000;\n",
       "}\n",
       "#T_d5195_row6_col0 {\n",
       "  background-color: #4358cb;\n",
       "  color: #f1f1f1;\n",
       "}\n",
       "#T_d5195_row6_col2 {\n",
       "  background-color: #4a63d3;\n",
       "  color: #f1f1f1;\n",
       "}\n",
       "#T_d5195_row6_col4 {\n",
       "  background-color: #506bda;\n",
       "  color: #f1f1f1;\n",
       "}\n",
       "#T_d5195_row6_col5 {\n",
       "  background-color: #dfdbd9;\n",
       "  color: #000000;\n",
       "}\n",
       "</style>\n",
       "<table id=\"T_d5195\">\n",
       "  <thead>\n",
       "    <tr>\n",
       "      <th class=\"blank level0\" >&nbsp;</th>\n",
       "      <th id=\"T_d5195_level0_col0\" class=\"col_heading level0 col0\" >precip</th>\n",
       "      <th id=\"T_d5195_level0_col1\" class=\"col_heading level0 col1\" >max_temp</th>\n",
       "      <th id=\"T_d5195_level0_col2\" class=\"col_heading level0 col2\" >min_temp</th>\n",
       "      <th id=\"T_d5195_level0_col3\" class=\"col_heading level0 col3\" >gwl</th>\n",
       "      <th id=\"T_d5195_level0_col4\" class=\"col_heading level0 col4\" >daily_discharge_cfs</th>\n",
       "      <th id=\"T_d5195_level0_col5\" class=\"col_heading level0 col5\" >sm_pca</th>\n",
       "      <th id=\"T_d5195_level0_col6\" class=\"col_heading level0 col6\" >st_pca</th>\n",
       "    </tr>\n",
       "  </thead>\n",
       "  <tbody>\n",
       "    <tr>\n",
       "      <th id=\"T_d5195_level0_row0\" class=\"row_heading level0 row0\" >precip</th>\n",
       "      <td id=\"T_d5195_row0_col0\" class=\"data row0 col0\" >1.000000</td>\n",
       "      <td id=\"T_d5195_row0_col1\" class=\"data row0 col1\" >-0.032593</td>\n",
       "      <td id=\"T_d5195_row0_col2\" class=\"data row0 col2\" >0.104749</td>\n",
       "      <td id=\"T_d5195_row0_col3\" class=\"data row0 col3\" >-0.024576</td>\n",
       "      <td id=\"T_d5195_row0_col4\" class=\"data row0 col4\" >0.206089</td>\n",
       "      <td id=\"T_d5195_row0_col5\" class=\"data row0 col5\" >-0.024596</td>\n",
       "      <td id=\"T_d5195_row0_col6\" class=\"data row0 col6\" >-0.001298</td>\n",
       "    </tr>\n",
       "    <tr>\n",
       "      <th id=\"T_d5195_level0_row1\" class=\"row_heading level0 row1\" >max_temp</th>\n",
       "      <td id=\"T_d5195_row1_col0\" class=\"data row1 col0\" >-0.032593</td>\n",
       "      <td id=\"T_d5195_row1_col1\" class=\"data row1 col1\" >1.000000</td>\n",
       "      <td id=\"T_d5195_row1_col2\" class=\"data row1 col2\" >0.861268</td>\n",
       "      <td id=\"T_d5195_row1_col3\" class=\"data row1 col3\" >0.063881</td>\n",
       "      <td id=\"T_d5195_row1_col4\" class=\"data row1 col4\" >0.010227</td>\n",
       "      <td id=\"T_d5195_row1_col5\" class=\"data row1 col5\" >-0.390845</td>\n",
       "      <td id=\"T_d5195_row1_col6\" class=\"data row1 col6\" >-0.302978</td>\n",
       "    </tr>\n",
       "    <tr>\n",
       "      <th id=\"T_d5195_level0_row2\" class=\"row_heading level0 row2\" >min_temp</th>\n",
       "      <td id=\"T_d5195_row2_col0\" class=\"data row2 col0\" >0.104749</td>\n",
       "      <td id=\"T_d5195_row2_col1\" class=\"data row2 col1\" >0.861268</td>\n",
       "      <td id=\"T_d5195_row2_col2\" class=\"data row2 col2\" >1.000000</td>\n",
       "      <td id=\"T_d5195_row2_col3\" class=\"data row2 col3\" >0.046226</td>\n",
       "      <td id=\"T_d5195_row2_col4\" class=\"data row2 col4\" >0.101598</td>\n",
       "      <td id=\"T_d5195_row2_col5\" class=\"data row2 col5\" >-0.406750</td>\n",
       "      <td id=\"T_d5195_row2_col6\" class=\"data row2 col6\" >-0.333921</td>\n",
       "    </tr>\n",
       "    <tr>\n",
       "      <th id=\"T_d5195_level0_row3\" class=\"row_heading level0 row3\" >gwl</th>\n",
       "      <td id=\"T_d5195_row3_col0\" class=\"data row3 col0\" >-0.024576</td>\n",
       "      <td id=\"T_d5195_row3_col1\" class=\"data row3 col1\" >0.063881</td>\n",
       "      <td id=\"T_d5195_row3_col2\" class=\"data row3 col2\" >0.046226</td>\n",
       "      <td id=\"T_d5195_row3_col3\" class=\"data row3 col3\" >1.000000</td>\n",
       "      <td id=\"T_d5195_row3_col4\" class=\"data row3 col4\" >-0.056801</td>\n",
       "      <td id=\"T_d5195_row3_col5\" class=\"data row3 col5\" >0.019720</td>\n",
       "      <td id=\"T_d5195_row3_col6\" class=\"data row3 col6\" >-0.452011</td>\n",
       "    </tr>\n",
       "    <tr>\n",
       "      <th id=\"T_d5195_level0_row4\" class=\"row_heading level0 row4\" >daily_discharge_cfs</th>\n",
       "      <td id=\"T_d5195_row4_col0\" class=\"data row4 col0\" >0.206089</td>\n",
       "      <td id=\"T_d5195_row4_col1\" class=\"data row4 col1\" >0.010227</td>\n",
       "      <td id=\"T_d5195_row4_col2\" class=\"data row4 col2\" >0.101598</td>\n",
       "      <td id=\"T_d5195_row4_col3\" class=\"data row4 col3\" >-0.056801</td>\n",
       "      <td id=\"T_d5195_row4_col4\" class=\"data row4 col4\" >1.000000</td>\n",
       "      <td id=\"T_d5195_row4_col5\" class=\"data row4 col5\" >0.024787</td>\n",
       "      <td id=\"T_d5195_row4_col6\" class=\"data row4 col6\" >0.018521</td>\n",
       "    </tr>\n",
       "    <tr>\n",
       "      <th id=\"T_d5195_level0_row5\" class=\"row_heading level0 row5\" >sm_pca</th>\n",
       "      <td id=\"T_d5195_row5_col0\" class=\"data row5 col0\" >-0.024596</td>\n",
       "      <td id=\"T_d5195_row5_col1\" class=\"data row5 col1\" >-0.390845</td>\n",
       "      <td id=\"T_d5195_row5_col2\" class=\"data row5 col2\" >-0.406750</td>\n",
       "      <td id=\"T_d5195_row5_col3\" class=\"data row5 col3\" >0.019720</td>\n",
       "      <td id=\"T_d5195_row5_col4\" class=\"data row5 col4\" >0.024787</td>\n",
       "      <td id=\"T_d5195_row5_col5\" class=\"data row5 col5\" >1.000000</td>\n",
       "      <td id=\"T_d5195_row5_col6\" class=\"data row5 col6\" >0.312463</td>\n",
       "    </tr>\n",
       "    <tr>\n",
       "      <th id=\"T_d5195_level0_row6\" class=\"row_heading level0 row6\" >st_pca</th>\n",
       "      <td id=\"T_d5195_row6_col0\" class=\"data row6 col0\" >-0.001298</td>\n",
       "      <td id=\"T_d5195_row6_col1\" class=\"data row6 col1\" >-0.302978</td>\n",
       "      <td id=\"T_d5195_row6_col2\" class=\"data row6 col2\" >-0.333921</td>\n",
       "      <td id=\"T_d5195_row6_col3\" class=\"data row6 col3\" >-0.452011</td>\n",
       "      <td id=\"T_d5195_row6_col4\" class=\"data row6 col4\" >0.018521</td>\n",
       "      <td id=\"T_d5195_row6_col5\" class=\"data row6 col5\" >0.312463</td>\n",
       "      <td id=\"T_d5195_row6_col6\" class=\"data row6 col6\" >1.000000</td>\n",
       "    </tr>\n",
       "  </tbody>\n",
       "</table>\n"
      ],
      "text/plain": [
       "<pandas.io.formats.style.Styler at 0x75654579e470>"
      ]
     },
     "execution_count": 6,
     "metadata": {},
     "output_type": "execute_result"
    }
   ],
   "source": [
    "# Checking for multicollinearity between features\n",
    "\n",
    "corr = df[features].corr()\n",
    "corr.style.background_gradient(cmap='coolwarm')"
   ]
  },
  {
   "cell_type": "markdown",
   "id": "9600f6cf-48d0-41c4-bcde-3a16d6781bf4",
   "metadata": {
    "deletable": false,
    "editable": false,
    "nbgrader": {
     "cell_type": "markdown",
     "checksum": "0d77ba9d1be738e1c4610ca62e3b1d40",
     "grade": false,
     "grade_id": "cell-edb8721b6b663927",
     "locked": true,
     "schema_version": 3,
     "solution": false,
     "task": false
    }
   },
   "source": [
    "We can see that there is correlation between max_temp and min_temp, but as per the domain knowledge, we know that these two features are important and we should keep them."
   ]
  },
  {
   "cell_type": "code",
   "execution_count": 7,
   "id": "a2704de3-421a-4846-aeab-da7840ff2b21",
   "metadata": {
    "deletable": false,
    "editable": false,
    "nbgrader": {
     "cell_type": "code",
     "checksum": "160698df6536263d37d11ba790e99d0f",
     "grade": false,
     "grade_id": "cell-1c54b7eaf4d559c3",
     "locked": true,
     "schema_version": 3,
     "solution": false,
     "task": false
    }
   },
   "outputs": [
    {
     "data": {
      "text/html": [
       "<div>\n",
       "<style scoped>\n",
       "    .dataframe tbody tr th:only-of-type {\n",
       "        vertical-align: middle;\n",
       "    }\n",
       "\n",
       "    .dataframe tbody tr th {\n",
       "        vertical-align: top;\n",
       "    }\n",
       "\n",
       "    .dataframe thead th {\n",
       "        text-align: right;\n",
       "    }\n",
       "</style>\n",
       "<table border=\"1\" class=\"dataframe\">\n",
       "  <thead>\n",
       "    <tr style=\"text-align: right;\">\n",
       "      <th></th>\n",
       "      <th>precip</th>\n",
       "      <th>max_temp</th>\n",
       "      <th>min_temp</th>\n",
       "      <th>gwl</th>\n",
       "      <th>daily_discharge_cfs</th>\n",
       "      <th>sm_pca</th>\n",
       "      <th>st_pca</th>\n",
       "    </tr>\n",
       "  </thead>\n",
       "  <tbody>\n",
       "    <tr>\n",
       "      <th>0</th>\n",
       "      <td>0.0</td>\n",
       "      <td>36</td>\n",
       "      <td>13</td>\n",
       "      <td>20.52</td>\n",
       "      <td>136.0</td>\n",
       "      <td>3.619512</td>\n",
       "      <td>0.190574</td>\n",
       "    </tr>\n",
       "    <tr>\n",
       "      <th>1</th>\n",
       "      <td>0.0</td>\n",
       "      <td>41</td>\n",
       "      <td>7</td>\n",
       "      <td>20.51</td>\n",
       "      <td>129.0</td>\n",
       "      <td>3.470118</td>\n",
       "      <td>0.209177</td>\n",
       "    </tr>\n",
       "    <tr>\n",
       "      <th>2</th>\n",
       "      <td>0.0</td>\n",
       "      <td>43</td>\n",
       "      <td>8</td>\n",
       "      <td>20.51</td>\n",
       "      <td>130.0</td>\n",
       "      <td>3.433721</td>\n",
       "      <td>0.197542</td>\n",
       "    </tr>\n",
       "    <tr>\n",
       "      <th>3</th>\n",
       "      <td>0.0</td>\n",
       "      <td>51</td>\n",
       "      <td>10</td>\n",
       "      <td>20.51</td>\n",
       "      <td>132.0</td>\n",
       "      <td>3.351107</td>\n",
       "      <td>0.135033</td>\n",
       "    </tr>\n",
       "    <tr>\n",
       "      <th>4</th>\n",
       "      <td>0.0</td>\n",
       "      <td>51</td>\n",
       "      <td>16</td>\n",
       "      <td>20.50</td>\n",
       "      <td>135.0</td>\n",
       "      <td>3.238121</td>\n",
       "      <td>0.107690</td>\n",
       "    </tr>\n",
       "  </tbody>\n",
       "</table>\n",
       "</div>"
      ],
      "text/plain": [
       "   precip  max_temp  min_temp    gwl  daily_discharge_cfs    sm_pca    st_pca\n",
       "0     0.0        36        13  20.52                136.0  3.619512  0.190574\n",
       "1     0.0        41         7  20.51                129.0  3.470118  0.209177\n",
       "2     0.0        43         8  20.51                130.0  3.433721  0.197542\n",
       "3     0.0        51        10  20.51                132.0  3.351107  0.135033\n",
       "4     0.0        51        16  20.50                135.0  3.238121  0.107690"
      ]
     },
     "metadata": {},
     "output_type": "display_data"
    },
    {
     "data": {
      "text/html": [
       "<div>\n",
       "<style scoped>\n",
       "    .dataframe tbody tr th:only-of-type {\n",
       "        vertical-align: middle;\n",
       "    }\n",
       "\n",
       "    .dataframe tbody tr th {\n",
       "        vertical-align: top;\n",
       "    }\n",
       "\n",
       "    .dataframe thead th {\n",
       "        text-align: right;\n",
       "    }\n",
       "</style>\n",
       "<table border=\"1\" class=\"dataframe\">\n",
       "  <thead>\n",
       "    <tr style=\"text-align: right;\">\n",
       "      <th></th>\n",
       "      <th>target</th>\n",
       "    </tr>\n",
       "  </thead>\n",
       "  <tbody>\n",
       "    <tr>\n",
       "      <th>0</th>\n",
       "      <td>0</td>\n",
       "    </tr>\n",
       "    <tr>\n",
       "      <th>1</th>\n",
       "      <td>0</td>\n",
       "    </tr>\n",
       "    <tr>\n",
       "      <th>2</th>\n",
       "      <td>0</td>\n",
       "    </tr>\n",
       "    <tr>\n",
       "      <th>3</th>\n",
       "      <td>0</td>\n",
       "    </tr>\n",
       "    <tr>\n",
       "      <th>4</th>\n",
       "      <td>0</td>\n",
       "    </tr>\n",
       "  </tbody>\n",
       "</table>\n",
       "</div>"
      ],
      "text/plain": [
       "   target\n",
       "0       0\n",
       "1       0\n",
       "2       0\n",
       "3       0\n",
       "4       0"
      ]
     },
     "metadata": {},
     "output_type": "display_data"
    }
   ],
   "source": [
    "# Displaying the data before splitting\n",
    "\n",
    "display(df[features].head())\n",
    "\n",
    "display(df[[target]].head())"
   ]
  },
  {
   "cell_type": "code",
   "execution_count": 8,
   "id": "bce37bc9-68fc-4aa9-89c6-7bd0ccf66431",
   "metadata": {
    "deletable": false,
    "editable": false,
    "nbgrader": {
     "cell_type": "code",
     "checksum": "8be588913d54cdf6fafe318f7f6df0ab",
     "grade": false,
     "grade_id": "cell-465873b244bdbf24",
     "locked": true,
     "schema_version": 3,
     "solution": false,
     "task": false
    }
   },
   "outputs": [],
   "source": [
    "# Splitting the dataset into the Training set and Test set\n",
    "X_train, X_test, y_train, y_test = train_test_split(df[features], df[target], test_size = 0.2, random_state = 0)"
   ]
  },
  {
   "cell_type": "code",
   "execution_count": 9,
   "id": "f25d044f-878a-46fd-af77-bde57936c9ed",
   "metadata": {
    "deletable": false,
    "editable": false,
    "nbgrader": {
     "cell_type": "code",
     "checksum": "53c881f141f9a5ca3f65075fcbc2e929",
     "grade": false,
     "grade_id": "cell-afe190671fbd887c",
     "locked": true,
     "schema_version": 3,
     "solution": false,
     "task": false
    }
   },
   "outputs": [
    {
     "data": {
      "text/plain": [
       "0    2218\n",
       "1    1686\n",
       "Name: target, dtype: int64"
      ]
     },
     "metadata": {},
     "output_type": "display_data"
    },
    {
     "data": {
      "text/plain": [
       "0    536\n",
       "1    441\n",
       "Name: target, dtype: int64"
      ]
     },
     "metadata": {},
     "output_type": "display_data"
    }
   ],
   "source": [
    "# No. of instance with 1 in target variable for training set\n",
    "display(y_train.value_counts())\n",
    "\n",
    "# No. of instance with 1 in target variable for test set\n",
    "display(y_test.value_counts())"
   ]
  },
  {
   "cell_type": "code",
   "execution_count": 10,
   "id": "407ba9d7-1266-4ff2-b922-215f7f177ea1",
   "metadata": {
    "deletable": false,
    "editable": false,
    "nbgrader": {
     "cell_type": "code",
     "checksum": "a58b63f470d862b9aa77fc142abcb5e1",
     "grade": false,
     "grade_id": "cell-fd7bf73c5db7c196",
     "locked": true,
     "schema_version": 3,
     "solution": false,
     "task": false
    }
   },
   "outputs": [
    {
     "data": {
      "text/html": [
       "<div>\n",
       "<style scoped>\n",
       "    .dataframe tbody tr th:only-of-type {\n",
       "        vertical-align: middle;\n",
       "    }\n",
       "\n",
       "    .dataframe tbody tr th {\n",
       "        vertical-align: top;\n",
       "    }\n",
       "\n",
       "    .dataframe thead th {\n",
       "        text-align: right;\n",
       "    }\n",
       "</style>\n",
       "<table border=\"1\" class=\"dataframe\">\n",
       "  <thead>\n",
       "    <tr style=\"text-align: right;\">\n",
       "      <th></th>\n",
       "      <th>precip</th>\n",
       "      <th>max_temp</th>\n",
       "      <th>min_temp</th>\n",
       "      <th>gwl</th>\n",
       "      <th>daily_discharge_cfs</th>\n",
       "      <th>sm_pca</th>\n",
       "      <th>st_pca</th>\n",
       "    </tr>\n",
       "  </thead>\n",
       "  <tbody>\n",
       "    <tr>\n",
       "      <th>641</th>\n",
       "      <td>0.00</td>\n",
       "      <td>57</td>\n",
       "      <td>11</td>\n",
       "      <td>21.00</td>\n",
       "      <td>145.0</td>\n",
       "      <td>0.494067</td>\n",
       "      <td>-1.976446</td>\n",
       "    </tr>\n",
       "    <tr>\n",
       "      <th>333</th>\n",
       "      <td>0.11</td>\n",
       "      <td>35</td>\n",
       "      <td>19</td>\n",
       "      <td>20.84</td>\n",
       "      <td>93.7</td>\n",
       "      <td>-0.995163</td>\n",
       "      <td>0.067906</td>\n",
       "    </tr>\n",
       "    <tr>\n",
       "      <th>33</th>\n",
       "      <td>0.08</td>\n",
       "      <td>40</td>\n",
       "      <td>25</td>\n",
       "      <td>20.44</td>\n",
       "      <td>120.0</td>\n",
       "      <td>-0.179378</td>\n",
       "      <td>1.826560</td>\n",
       "    </tr>\n",
       "    <tr>\n",
       "      <th>3909</th>\n",
       "      <td>0.00</td>\n",
       "      <td>41</td>\n",
       "      <td>8</td>\n",
       "      <td>21.71</td>\n",
       "      <td>96.9</td>\n",
       "      <td>-0.002604</td>\n",
       "      <td>1.751204</td>\n",
       "    </tr>\n",
       "    <tr>\n",
       "      <th>4193</th>\n",
       "      <td>0.00</td>\n",
       "      <td>62</td>\n",
       "      <td>32</td>\n",
       "      <td>22.13</td>\n",
       "      <td>150.0</td>\n",
       "      <td>0.943268</td>\n",
       "      <td>-1.191578</td>\n",
       "    </tr>\n",
       "  </tbody>\n",
       "</table>\n",
       "</div>"
      ],
      "text/plain": [
       "      precip  max_temp  min_temp    gwl  daily_discharge_cfs    sm_pca  \\\n",
       "641     0.00        57        11  21.00                145.0  0.494067   \n",
       "333     0.11        35        19  20.84                 93.7 -0.995163   \n",
       "33      0.08        40        25  20.44                120.0 -0.179378   \n",
       "3909    0.00        41         8  21.71                 96.9 -0.002604   \n",
       "4193    0.00        62        32  22.13                150.0  0.943268   \n",
       "\n",
       "        st_pca  \n",
       "641  -1.976446  \n",
       "333   0.067906  \n",
       "33    1.826560  \n",
       "3909  1.751204  \n",
       "4193 -1.191578  "
      ]
     },
     "metadata": {},
     "output_type": "display_data"
    },
    {
     "data": {
      "text/html": [
       "<div>\n",
       "<style scoped>\n",
       "    .dataframe tbody tr th:only-of-type {\n",
       "        vertical-align: middle;\n",
       "    }\n",
       "\n",
       "    .dataframe tbody tr th {\n",
       "        vertical-align: top;\n",
       "    }\n",
       "\n",
       "    .dataframe thead th {\n",
       "        text-align: right;\n",
       "    }\n",
       "</style>\n",
       "<table border=\"1\" class=\"dataframe\">\n",
       "  <thead>\n",
       "    <tr style=\"text-align: right;\">\n",
       "      <th></th>\n",
       "      <th>target</th>\n",
       "    </tr>\n",
       "  </thead>\n",
       "  <tbody>\n",
       "    <tr>\n",
       "      <th>641</th>\n",
       "      <td>1</td>\n",
       "    </tr>\n",
       "    <tr>\n",
       "      <th>333</th>\n",
       "      <td>0</td>\n",
       "    </tr>\n",
       "    <tr>\n",
       "      <th>33</th>\n",
       "      <td>0</td>\n",
       "    </tr>\n",
       "    <tr>\n",
       "      <th>3909</th>\n",
       "      <td>1</td>\n",
       "    </tr>\n",
       "    <tr>\n",
       "      <th>4193</th>\n",
       "      <td>1</td>\n",
       "    </tr>\n",
       "  </tbody>\n",
       "</table>\n",
       "</div>"
      ],
      "text/plain": [
       "      target\n",
       "641        1\n",
       "333        0\n",
       "33         0\n",
       "3909       1\n",
       "4193       1"
      ]
     },
     "metadata": {},
     "output_type": "display_data"
    },
    {
     "data": {
      "text/html": [
       "<div>\n",
       "<style scoped>\n",
       "    .dataframe tbody tr th:only-of-type {\n",
       "        vertical-align: middle;\n",
       "    }\n",
       "\n",
       "    .dataframe tbody tr th {\n",
       "        vertical-align: top;\n",
       "    }\n",
       "\n",
       "    .dataframe thead th {\n",
       "        text-align: right;\n",
       "    }\n",
       "</style>\n",
       "<table border=\"1\" class=\"dataframe\">\n",
       "  <thead>\n",
       "    <tr style=\"text-align: right;\">\n",
       "      <th></th>\n",
       "      <th>precip</th>\n",
       "      <th>max_temp</th>\n",
       "      <th>min_temp</th>\n",
       "      <th>gwl</th>\n",
       "      <th>daily_discharge_cfs</th>\n",
       "      <th>sm_pca</th>\n",
       "      <th>st_pca</th>\n",
       "    </tr>\n",
       "  </thead>\n",
       "  <tbody>\n",
       "    <tr>\n",
       "      <th>2857</th>\n",
       "      <td>0.01</td>\n",
       "      <td>47</td>\n",
       "      <td>22</td>\n",
       "      <td>21.16</td>\n",
       "      <td>170.0</td>\n",
       "      <td>2.224886</td>\n",
       "      <td>2.490720</td>\n",
       "    </tr>\n",
       "    <tr>\n",
       "      <th>2373</th>\n",
       "      <td>0.00</td>\n",
       "      <td>75</td>\n",
       "      <td>30</td>\n",
       "      <td>21.73</td>\n",
       "      <td>100.0</td>\n",
       "      <td>0.893778</td>\n",
       "      <td>-1.718663</td>\n",
       "    </tr>\n",
       "    <tr>\n",
       "      <th>1065</th>\n",
       "      <td>0.00</td>\n",
       "      <td>48</td>\n",
       "      <td>17</td>\n",
       "      <td>21.00</td>\n",
       "      <td>78.3</td>\n",
       "      <td>0.303675</td>\n",
       "      <td>0.066434</td>\n",
       "    </tr>\n",
       "    <tr>\n",
       "      <th>2287</th>\n",
       "      <td>0.00</td>\n",
       "      <td>97</td>\n",
       "      <td>60</td>\n",
       "      <td>21.31</td>\n",
       "      <td>112.0</td>\n",
       "      <td>-0.647494</td>\n",
       "      <td>-0.541322</td>\n",
       "    </tr>\n",
       "    <tr>\n",
       "      <th>1675</th>\n",
       "      <td>0.00</td>\n",
       "      <td>80</td>\n",
       "      <td>42</td>\n",
       "      <td>21.45</td>\n",
       "      <td>163.0</td>\n",
       "      <td>-0.127969</td>\n",
       "      <td>-1.816134</td>\n",
       "    </tr>\n",
       "  </tbody>\n",
       "</table>\n",
       "</div>"
      ],
      "text/plain": [
       "      precip  max_temp  min_temp    gwl  daily_discharge_cfs    sm_pca  \\\n",
       "2857    0.01        47        22  21.16                170.0  2.224886   \n",
       "2373    0.00        75        30  21.73                100.0  0.893778   \n",
       "1065    0.00        48        17  21.00                 78.3  0.303675   \n",
       "2287    0.00        97        60  21.31                112.0 -0.647494   \n",
       "1675    0.00        80        42  21.45                163.0 -0.127969   \n",
       "\n",
       "        st_pca  \n",
       "2857  2.490720  \n",
       "2373 -1.718663  \n",
       "1065  0.066434  \n",
       "2287 -0.541322  \n",
       "1675 -1.816134  "
      ]
     },
     "metadata": {},
     "output_type": "display_data"
    },
    {
     "data": {
      "text/html": [
       "<div>\n",
       "<style scoped>\n",
       "    .dataframe tbody tr th:only-of-type {\n",
       "        vertical-align: middle;\n",
       "    }\n",
       "\n",
       "    .dataframe tbody tr th {\n",
       "        vertical-align: top;\n",
       "    }\n",
       "\n",
       "    .dataframe thead th {\n",
       "        text-align: right;\n",
       "    }\n",
       "</style>\n",
       "<table border=\"1\" class=\"dataframe\">\n",
       "  <thead>\n",
       "    <tr style=\"text-align: right;\">\n",
       "      <th></th>\n",
       "      <th>target</th>\n",
       "    </tr>\n",
       "  </thead>\n",
       "  <tbody>\n",
       "    <tr>\n",
       "      <th>2857</th>\n",
       "      <td>0</td>\n",
       "    </tr>\n",
       "    <tr>\n",
       "      <th>2373</th>\n",
       "      <td>0</td>\n",
       "    </tr>\n",
       "    <tr>\n",
       "      <th>1065</th>\n",
       "      <td>1</td>\n",
       "    </tr>\n",
       "    <tr>\n",
       "      <th>2287</th>\n",
       "      <td>0</td>\n",
       "    </tr>\n",
       "    <tr>\n",
       "      <th>1675</th>\n",
       "      <td>0</td>\n",
       "    </tr>\n",
       "  </tbody>\n",
       "</table>\n",
       "</div>"
      ],
      "text/plain": [
       "      target\n",
       "2857       0\n",
       "2373       0\n",
       "1065       1\n",
       "2287       0\n",
       "1675       0"
      ]
     },
     "metadata": {},
     "output_type": "display_data"
    }
   ],
   "source": [
    "# display the data after splitting\n",
    "\n",
    "# Training set\n",
    "display(pd.DataFrame(X_train).head())\n",
    "display(pd.DataFrame(y_train).head())\n",
    "\n",
    "# Test set\n",
    "display(pd.DataFrame(X_test).head())\n",
    "display(pd.DataFrame(y_test).head())\n"
   ]
  },
  {
   "cell_type": "code",
   "execution_count": 11,
   "id": "41a5c897-cc28-47cb-91fd-3420715b5e0b",
   "metadata": {
    "deletable": false,
    "editable": false,
    "nbgrader": {
     "cell_type": "code",
     "checksum": "cbccc4882ed59fcec37c76d86e935db3",
     "grade": false,
     "grade_id": "cell-f95d5ffdc7bb0711",
     "locked": true,
     "schema_version": 3,
     "solution": false,
     "task": false
    }
   },
   "outputs": [],
   "source": [
    "# Scaling the features\n",
    "# Feature scaling is performed to ensure that the model is not biased towards the features with higher magnitude\n",
    "\n",
    "sc = StandardScaler()\n",
    "X_train = sc.fit_transform(X_train)"
   ]
  },
  {
   "cell_type": "code",
   "execution_count": 12,
   "id": "ee3dfa48-a704-4d7c-b887-f0463720eca7",
   "metadata": {
    "deletable": false,
    "editable": false,
    "nbgrader": {
     "cell_type": "code",
     "checksum": "ed7dd6f0925c75768f9364c876736b71",
     "grade": false,
     "grade_id": "cell-2f5924389ca6bde1",
     "locked": true,
     "schema_version": 3,
     "solution": false,
     "task": false
    }
   },
   "outputs": [
    {
     "data": {
      "text/html": [
       "<div>\n",
       "<style scoped>\n",
       "    .dataframe tbody tr th:only-of-type {\n",
       "        vertical-align: middle;\n",
       "    }\n",
       "\n",
       "    .dataframe tbody tr th {\n",
       "        vertical-align: top;\n",
       "    }\n",
       "\n",
       "    .dataframe thead th {\n",
       "        text-align: right;\n",
       "    }\n",
       "</style>\n",
       "<table border=\"1\" class=\"dataframe\">\n",
       "  <thead>\n",
       "    <tr style=\"text-align: right;\">\n",
       "      <th></th>\n",
       "      <th>0</th>\n",
       "      <th>1</th>\n",
       "      <th>2</th>\n",
       "      <th>3</th>\n",
       "      <th>4</th>\n",
       "      <th>5</th>\n",
       "      <th>6</th>\n",
       "    </tr>\n",
       "  </thead>\n",
       "  <tbody>\n",
       "    <tr>\n",
       "      <th>0</th>\n",
       "      <td>-0.236413</td>\n",
       "      <td>-0.703677</td>\n",
       "      <td>-1.472493</td>\n",
       "      <td>-0.789317</td>\n",
       "      <td>-0.043247</td>\n",
       "      <td>0.398965</td>\n",
       "      <td>-1.188105</td>\n",
       "    </tr>\n",
       "    <tr>\n",
       "      <th>1</th>\n",
       "      <td>0.574686</td>\n",
       "      <td>-1.801402</td>\n",
       "      <td>-1.034528</td>\n",
       "      <td>-1.157828</td>\n",
       "      <td>-0.211894</td>\n",
       "      <td>-0.693305</td>\n",
       "      <td>0.026048</td>\n",
       "    </tr>\n",
       "    <tr>\n",
       "      <th>2</th>\n",
       "      <td>0.353477</td>\n",
       "      <td>-1.551919</td>\n",
       "      <td>-0.706055</td>\n",
       "      <td>-2.079106</td>\n",
       "      <td>-0.125433</td>\n",
       "      <td>-0.094971</td>\n",
       "      <td>1.070523</td>\n",
       "    </tr>\n",
       "    <tr>\n",
       "      <th>3</th>\n",
       "      <td>-0.236413</td>\n",
       "      <td>-1.502023</td>\n",
       "      <td>-1.636730</td>\n",
       "      <td>0.845953</td>\n",
       "      <td>-0.201374</td>\n",
       "      <td>0.034684</td>\n",
       "      <td>1.025768</td>\n",
       "    </tr>\n",
       "    <tr>\n",
       "      <th>4</th>\n",
       "      <td>-0.236413</td>\n",
       "      <td>-0.454194</td>\n",
       "      <td>-0.322836</td>\n",
       "      <td>1.813295</td>\n",
       "      <td>-0.026809</td>\n",
       "      <td>0.728431</td>\n",
       "      <td>-0.721967</td>\n",
       "    </tr>\n",
       "  </tbody>\n",
       "</table>\n",
       "</div>"
      ],
      "text/plain": [
       "          0         1         2         3         4         5         6\n",
       "0 -0.236413 -0.703677 -1.472493 -0.789317 -0.043247  0.398965 -1.188105\n",
       "1  0.574686 -1.801402 -1.034528 -1.157828 -0.211894 -0.693305  0.026048\n",
       "2  0.353477 -1.551919 -0.706055 -2.079106 -0.125433 -0.094971  1.070523\n",
       "3 -0.236413 -1.502023 -1.636730  0.845953 -0.201374  0.034684  1.025768\n",
       "4 -0.236413 -0.454194 -0.322836  1.813295 -0.026809  0.728431 -0.721967"
      ]
     },
     "metadata": {},
     "output_type": "display_data"
    }
   ],
   "source": [
    "# Displaying the scaled training set\n",
    "\n",
    "display(pd.DataFrame(X_train).head())"
   ]
  },
  {
   "cell_type": "markdown",
   "id": "afc21fb5-aab8-4763-918e-3a29657c58b8",
   "metadata": {
    "deletable": false,
    "editable": false,
    "nbgrader": {
     "cell_type": "markdown",
     "checksum": "4a574ea28364b53656056a3f91966109",
     "grade": false,
     "grade_id": "cell-af9319c533b1b039",
     "locked": true,
     "schema_version": 3,
     "solution": false,
     "task": false
    }
   },
   "source": [
    "#### Exercise 1: Support Vector Machine with Default Parameters (Linear Kernel, Poly Kernel and Rbf Kernel)"
   ]
  },
  {
   "cell_type": "code",
   "execution_count": 13,
   "id": "7f93a78e-1e78-477b-8e36-b67fc685b679",
   "metadata": {
    "deletable": false,
    "nbgrader": {
     "cell_type": "code",
     "checksum": "5f69951d4da3bfc216df08c5bc4c3d51",
     "grade": false,
     "grade_id": "cell-5736d86926ad821f",
     "locked": false,
     "schema_version": 3,
     "solution": true,
     "task": false
    }
   },
   "outputs": [],
   "source": [
    "from sklearn.svm import SVC\n",
    "\n",
    "# Model building - Linear Kernel\n",
    "classifier_linear = SVC(kernel='linear')\n",
    "classifier_linear.fit(X_train, y_train)\n",
    "pred_linear = classifier_linear.predict(sc.transform(X_test))\n",
    "\n",
    "# Model building - Polynomial Kernel\n",
    "classifier_poly = SVC(kernel='poly')\n",
    "classifier_poly.fit(X_train, y_train)\n",
    "pred_poly = classifier_poly.predict(sc.transform(X_test))\n",
    "\n",
    "# Model building - RBF Kernel\n",
    "classifier_rbf = SVC(kernel='rbf')\n",
    "classifier_rbf.fit(X_train, y_train)\n",
    "pred_rbf = classifier_rbf.predict(sc.transform(X_test))"
   ]
  },
  {
   "cell_type": "code",
   "execution_count": null,
   "id": "4d19acb3",
   "metadata": {
    "deletable": false,
    "editable": false,
    "nbgrader": {
     "cell_type": "code",
     "checksum": "d9264e90862a37aa50f467f7beec6949",
     "grade": true,
     "grade_id": "cell-27d0671b489226a2",
     "locked": true,
     "points": 1,
     "schema_version": 3,
     "solution": false,
     "task": false
    }
   },
   "outputs": [],
   "source": []
  },
  {
   "cell_type": "markdown",
   "id": "3893d6a3-b755-4b77-838b-cf51ccaabcbd",
   "metadata": {
    "deletable": false,
    "editable": false,
    "nbgrader": {
     "cell_type": "markdown",
     "checksum": "13bf7cdaeb255e4925fc549755c5c172",
     "grade": false,
     "grade_id": "cell-d030497390c9dfaa",
     "locked": true,
     "schema_version": 3,
     "solution": false,
     "task": false
    }
   },
   "source": [
    "#### Exercise 2: Generate the Confusion Matrix for all 3 kernels (Linear, Poly and Rbf)"
   ]
  },
  {
   "cell_type": "code",
   "execution_count": 14,
   "id": "1201dcb9-ed8b-4309-8d70-2f0afb204686",
   "metadata": {
    "deletable": false,
    "nbgrader": {
     "cell_type": "code",
     "checksum": "0734580669d1e5b8afc1406021c2bf96",
     "grade": false,
     "grade_id": "cell-2af04192e8f7264a",
     "locked": false,
     "schema_version": 3,
     "solution": true,
     "task": false
    }
   },
   "outputs": [
    {
     "data": {
      "image/png": "[encoded data removed]",
      "text/plain": [
       "<Figure size 640x480 with 2 Axes>"
      ]
     },
     "metadata": {},
     "output_type": "display_data"
    },
    {
     "data": {
      "image/png": "[encoded data removed]",
      "text/plain": [
       "<Figure size 640x480 with 2 Axes>"
      ]
     },
     "metadata": {},
     "output_type": "display_data"
    },
    {
     "data": {
      "image/png": "[encoded data removed]",
      "text/plain": [
       "<Figure size 640x480 with 2 Axes>"
      ]
     },
     "metadata": {},
     "output_type": "display_data"
    }
   ],
   "source": [
    "# Generating confusion matrices for each kernel\n",
    "\n",
    "cm_linear = confusion_matrix(y_test, pred_linear)\n",
    "disp_linear = ConfusionMatrixDisplay(confusion_matrix=cm_linear, display_labels=classifier_linear.classes_)\n",
    "disp_linear.plot()\n",
    "disp_linear.ax_.set_title('Confusion Matrix for Simple SVM with Linear Kernel')\n",
    "plt.show()\n",
    "\n",
    "cm_poly = confusion_matrix(y_test, pred_poly)\n",
    "disp_poly = ConfusionMatrixDisplay(confusion_matrix=cm_poly, display_labels=classifier_poly.classes_)\n",
    "disp_poly.plot()\n",
    "disp_poly.ax_.set_title('Confusion Matrix for Simple SVM with Poly Kernel')\n",
    "plt.show()\n",
    "\n",
    "cm_rbf = confusion_matrix(y_test, pred_rbf)\n",
    "disp_rbf = ConfusionMatrixDisplay(confusion_matrix=cm_rbf, display_labels=classifier_rbf.classes_)\n",
    "disp_rbf.plot()\n",
    "disp_rbf.ax_.set_title('Confusion Matrix for Simple SVM with RBF Kernel')\n",
    "plt.show()"
   ]
  },
  {
   "cell_type": "code",
   "execution_count": null,
   "id": "9721aa14",
   "metadata": {
    "deletable": false,
    "editable": false,
    "nbgrader": {
     "cell_type": "code",
     "checksum": "4e0d8ed640177b1a54205c6ddd393e5d",
     "grade": true,
     "grade_id": "cell-91f8e7e78abd508d",
     "locked": true,
     "points": 1,
     "schema_version": 3,
     "solution": false,
     "task": false
    }
   },
   "outputs": [],
   "source": []
  },
  {
   "cell_type": "markdown",
   "id": "24dd7baa-ab4d-4b3d-b2f8-27bf38e4b8a0",
   "metadata": {
    "deletable": false,
    "editable": false,
    "nbgrader": {
     "cell_type": "markdown",
     "checksum": "1308a34a0df3137c5d3335398ec934ef",
     "grade": false,
     "grade_id": "cell-19ee830f2a70ce87",
     "locked": true,
     "schema_version": 3,
     "solution": false,
     "task": false
    }
   },
   "source": [
    "#### Exercise 3: Calculate the `accuracy`, `f1` score and `recall` for all 3 kernels (Linear, Poly and Rbf) and put it all in a data frame"
   ]
  },
  {
   "cell_type": "code",
   "execution_count": 15,
   "id": "c6dce46c-f94c-490a-98f0-ab24638c23f6",
   "metadata": {
    "deletable": false,
    "nbgrader": {
     "cell_type": "code",
     "checksum": "c494e1c98d9339ff27307565cd140807",
     "grade": false,
     "grade_id": "cell-a59f50b332381c52",
     "locked": false,
     "schema_version": 3,
     "solution": true,
     "task": false
    }
   },
   "outputs": [
    {
     "data": {
      "text/html": [
       "<div>\n",
       "<style scoped>\n",
       "    .dataframe tbody tr th:only-of-type {\n",
       "        vertical-align: middle;\n",
       "    }\n",
       "\n",
       "    .dataframe tbody tr th {\n",
       "        vertical-align: top;\n",
       "    }\n",
       "\n",
       "    .dataframe thead th {\n",
       "        text-align: right;\n",
       "    }\n",
       "</style>\n",
       "<table border=\"1\" class=\"dataframe\">\n",
       "  <thead>\n",
       "    <tr style=\"text-align: right;\">\n",
       "      <th></th>\n",
       "      <th>Kernel</th>\n",
       "      <th>Accuracy</th>\n",
       "      <th>F1 Score</th>\n",
       "      <th>Recall</th>\n",
       "    </tr>\n",
       "  </thead>\n",
       "  <tbody>\n",
       "    <tr>\n",
       "      <th>0</th>\n",
       "      <td>Linear</td>\n",
       "      <td>0.570113</td>\n",
       "      <td>0.433962</td>\n",
       "      <td>0.365079</td>\n",
       "    </tr>\n",
       "    <tr>\n",
       "      <th>1</th>\n",
       "      <td>Poly</td>\n",
       "      <td>0.677584</td>\n",
       "      <td>0.556962</td>\n",
       "      <td>0.448980</td>\n",
       "    </tr>\n",
       "    <tr>\n",
       "      <th>2</th>\n",
       "      <td>RBF</td>\n",
       "      <td>0.750256</td>\n",
       "      <td>0.709524</td>\n",
       "      <td>0.675737</td>\n",
       "    </tr>\n",
       "  </tbody>\n",
       "</table>\n",
       "</div>"
      ],
      "text/plain": [
       "   Kernel  Accuracy  F1 Score    Recall\n",
       "0  Linear  0.570113  0.433962  0.365079\n",
       "1    Poly  0.677584  0.556962  0.448980\n",
       "2     RBF  0.750256  0.709524  0.675737"
      ]
     },
     "metadata": {},
     "output_type": "display_data"
    }
   ],
   "source": [
    "# Calculating metrics for each kernel\n",
    "accuracy_linear = accuracy_score(y_test, pred_linear)\n",
    "f1_linear = f1_score(y_test, pred_linear)\n",
    "recall_linear = recall_score(y_test, pred_linear)\n",
    "\n",
    "accuracy_poly = accuracy_score(y_test, pred_poly)\n",
    "f1_poly = f1_score(y_test, pred_poly)\n",
    "recall_poly = recall_score(y_test, pred_poly)\n",
    "\n",
    "accuracy_rbf = accuracy_score(y_test, pred_rbf)\n",
    "f1_rbf = f1_score(y_test, pred_rbf)\n",
    "recall_rbf = recall_score(y_test, pred_rbf)\n",
    "\n",
    "# Creating a DataFrame for comparison\n",
    "scores = pd.DataFrame({\n",
    "    'Kernel': ['Linear', 'Poly', 'RBF'],\n",
    "    'Accuracy': [accuracy_linear, accuracy_poly, accuracy_rbf],\n",
    "    'F1 Score': [f1_linear, f1_poly, f1_rbf],\n",
    "    'Recall': [recall_linear, recall_poly, recall_rbf]\n",
    "})\n",
    "\n",
    "# Displaying the scores\n",
    "display(scores)"
   ]
  },
  {
   "cell_type": "code",
   "execution_count": null,
   "id": "3476a5ec",
   "metadata": {
    "deletable": false,
    "editable": false,
    "nbgrader": {
     "cell_type": "code",
     "checksum": "eedd6c81b62d01f1bf4c70d9fc626156",
     "grade": true,
     "grade_id": "cell-0b5e92ccd0e10df7",
     "locked": true,
     "points": 1,
     "schema_version": 3,
     "solution": false,
     "task": false
    }
   },
   "outputs": [],
   "source": []
  },
  {
   "cell_type": "markdown",
   "id": "9adaba44-ab1f-433b-a33b-3bf33da8ad77",
   "metadata": {
    "deletable": false,
    "editable": false,
    "nbgrader": {
     "cell_type": "markdown",
     "checksum": "f2a93b39f1b90e0971d979ee0491e4f5",
     "grade": false,
     "grade_id": "cell-7e6335a9867c3465",
     "locked": true,
     "schema_version": 3,
     "solution": false,
     "task": false
    }
   },
   "source": [
    "#### Exercise 4: Optimize the model using `GridSearchCV` for `Accuracy Metric`"
   ]
  },
  {
   "cell_type": "code",
   "execution_count": 16,
   "id": "3df39408-d4c7-4c21-90f0-99e20cfd357a",
   "metadata": {
    "deletable": false,
    "nbgrader": {
     "cell_type": "code",
     "checksum": "f4a69627285f592a2240a8a312deab0a",
     "grade": false,
     "grade_id": "cell-8c142b58131e5df8",
     "locked": false,
     "schema_version": 3,
     "solution": true,
     "task": false
    }
   },
   "outputs": [
    {
     "name": "stdout",
     "output_type": "stream",
     "text": [
      "Best Accuracy: 0.879608325946354\n",
      "Best Parameters (Accuracy): {'C': 500, 'kernel': 'rbf'}\n"
     ]
    }
   ],
   "source": [
    "# Implementing SVM with GridSearchCV for hyperparameter tuning of linear, rbf and poly kernels\n",
    "\n",
    "# GridSearchCV for hyperparameter tuning (Accuracy)\n",
    "param_grid_acc = {\n",
    "    'C': [0.001, 0.01, 0.1, 0.5, 1, 5, 10, 50, 100, 500],\n",
    "    'kernel': ['linear', 'poly', 'rbf']\n",
    "}\n",
    "\n",
    "svc_acc = SVC()\n",
    "grid_search_acc = GridSearchCV(estimator=svc_acc, param_grid=param_grid_acc, scoring='accuracy', cv=5, n_jobs=-1)\n",
    "grid_search_acc.fit(X_train, y_train)\n",
    "\n",
    "best_accuracy = grid_search_acc.best_score_\n",
    "best_parameters_acc = grid_search_acc.best_params_\n",
    "\n",
    "print('Best Accuracy:', best_accuracy)\n",
    "print('Best Parameters (Accuracy):', best_parameters_acc)\n",
    "\n",
    "\n"
   ]
  },
  {
   "cell_type": "code",
   "execution_count": null,
   "id": "b11dfcad",
   "metadata": {
    "deletable": false,
    "editable": false,
    "nbgrader": {
     "cell_type": "code",
     "checksum": "2659af4ded09e5a4a3e39f1fa077f775",
     "grade": true,
     "grade_id": "cell-ce34679e6a68beda",
     "locked": true,
     "points": 1,
     "schema_version": 3,
     "solution": false,
     "task": false
    }
   },
   "outputs": [],
   "source": []
  },
  {
   "cell_type": "markdown",
   "id": "b2a32c34-f3a5-453f-a336-be110ad64ceb",
   "metadata": {
    "deletable": false,
    "editable": false,
    "nbgrader": {
     "cell_type": "markdown",
     "checksum": "e6d0dc56d38a4317171855197e0c24c4",
     "grade": false,
     "grade_id": "cell-085740734b24ac41",
     "locked": true,
     "schema_version": 3,
     "solution": false,
     "task": false
    }
   },
   "source": [
    "#### Exercise 5: Optimize the model using `GridSearchCV` for `Recall Metric`"
   ]
  },
  {
   "cell_type": "code",
   "execution_count": 17,
   "id": "7e15e35b-d744-4c46-b45e-10f3d9de12e4",
   "metadata": {
    "deletable": false,
    "nbgrader": {
     "cell_type": "code",
     "checksum": "baa28dde5df155752339d58cd09b68bf",
     "grade": false,
     "grade_id": "cell-f8b4ab453189e385",
     "locked": false,
     "schema_version": 3,
     "solution": true,
     "task": false
    }
   },
   "outputs": [
    {
     "name": "stdout",
     "output_type": "stream",
     "text": [
      "Best Recall: 0.8540831914034378\n",
      "Best Parameters (Recall): {'C': 500, 'kernel': 'rbf'}\n"
     ]
    }
   ],
   "source": [
    "# Implementing SVM with GridSearchCV for hyperparameter tuning of linear, rbf and poly kernels\n",
    "\n",
    "param_grid_rec = {\n",
    "    'C': [0.001, 0.01, 0.1, 0.5, 1, 5, 10, 50, 100, 500],\n",
    "    'kernel': ['linear', 'poly', 'rbf']\n",
    "}\n",
    "\n",
    "svc_rec = SVC()\n",
    "grid_search_rec = GridSearchCV(estimator=svc_rec, param_grid=param_grid_rec, scoring='recall', cv=5, n_jobs=-1)\n",
    "grid_search_rec.fit(X_train, y_train)\n",
    "\n",
    "best_recall = grid_search_rec.best_score_\n",
    "best_parameters_rec = grid_search_rec.best_params_\n",
    "\n",
    "print('Best Recall:', best_recall)\n",
    "print('Best Parameters (Recall):', best_parameters_rec)"
   ]
  },
  {
   "cell_type": "code",
   "execution_count": null,
   "id": "7b62879b",
   "metadata": {
    "deletable": false,
    "editable": false,
    "nbgrader": {
     "cell_type": "code",
     "checksum": "5aa5c4e69ab4aed09c7de76da0a1deca",
     "grade": true,
     "grade_id": "cell-4b9fe74d4ec85813",
     "locked": true,
     "points": 1,
     "schema_version": 3,
     "solution": false,
     "task": false
    }
   },
   "outputs": [],
   "source": []
  },
  {
   "cell_type": "markdown",
   "id": "c1aee5a4-6164-4b66-8b09-51fb4b63cbd5",
   "metadata": {
    "deletable": false,
    "editable": false,
    "nbgrader": {
     "cell_type": "markdown",
     "checksum": "5b097babc728b61d1c78ecdf4bb25a83",
     "grade": false,
     "grade_id": "cell-298542b26f7b0054",
     "locked": true,
     "schema_version": 3,
     "solution": false,
     "task": false
    }
   },
   "source": [
    "#### Exercise 6: Optimize the model using `GridSearchCV` for `F1 Metric`"
   ]
  },
  {
   "cell_type": "code",
   "execution_count": null,
   "id": "ebaa74ec-1bc9-430b-ad81-cf6ff11a6871",
   "metadata": {
    "deletable": false,
    "nbgrader": {
     "cell_type": "code",
     "checksum": "70e9bf6c0c66742f3a60dc5af46f8bf7",
     "grade": false,
     "grade_id": "cell-791363197a9b586b",
     "locked": false,
     "schema_version": 3,
     "solution": true,
     "task": false
    }
   },
   "outputs": [],
   "source": [
    "# Implementing SVM with GridSearchCV for hyperparameter tuning of linear, rbf and poly kernels\n",
    "\n",
    "param_grid_f1 = {\n",
    "    'C': [0.001, 0.01, 0.1, 0.5, 1, 5, 10, 50, 100, 500],\n",
    "    'kernel': ['linear', 'poly', 'rbf']\n",
    "}\n",
    "\n",
    "svc_f1 = SVC()\n",
    "grid_search_f1 = GridSearchCV(estimator=svc_f1, param_grid=param_grid_f1, scoring='f1', cv=5, n_jobs=-1)\n",
    "grid_search_f1.fit(X_train, y_train)\n",
    "\n",
    "best_f1 = grid_search_f1.best_score_\n",
    "best_parameters_f1 = grid_search_f1.best_params_\n",
    "\n",
    "print('Best F1:', best_f1)\n",
    "print('Best Parameters (F1):', best_parameters_f1)\n"
   ]
  },
  {
   "cell_type": "code",
   "execution_count": null,
   "id": "1a2550f5",
   "metadata": {
    "deletable": false,
    "editable": false,
    "nbgrader": {
     "cell_type": "code",
     "checksum": "7982d5e84fda3c33038fa2ffda39f3c4",
     "grade": true,
     "grade_id": "cell-da86abcb82ccc8a2",
     "locked": true,
     "points": 1,
     "schema_version": 3,
     "solution": false,
     "task": false
    }
   },
   "outputs": [],
   "source": []
  },
  {
   "cell_type": "markdown",
   "id": "64953fef-ffae-459a-a4e7-044853907f0a",
   "metadata": {
    "deletable": false,
    "editable": false,
    "nbgrader": {
     "cell_type": "markdown",
     "checksum": "fd9b18ad34816d4837da008361059bc6",
     "grade": false,
     "grade_id": "cell-5c0b920c71a780d8",
     "locked": true,
     "schema_version": 3,
     "solution": false,
     "task": false
    }
   },
   "source": [
    "#### Exercise 7: # Fitting best SVM model to the training set `(kernel = 'Your Choice Kernel from test results above', C = 10)`\n"
   ]
  },
  {
   "cell_type": "code",
   "execution_count": null,
   "id": "d3b82c7e",
   "metadata": {
    "deletable": false,
    "nbgrader": {
     "cell_type": "code",
     "checksum": "d78ebd38a3583676da99b8d0b8831c04",
     "grade": false,
     "grade_id": "cell-2ee8c4df7b850eed",
     "locked": false,
     "schema_version": 3,
     "solution": true,
     "task": false
    }
   },
   "outputs": [],
   "source": [
    "classifier = SVC(C=10, kernel='rbf')\n",
    "classifier.fit(X_train, y_train)\n",
    "\n",
    "# Predicting the Test set results\n",
    "preds = classifier.predict(sc.transform(X_test))\n"
   ]
  },
  {
   "cell_type": "code",
   "execution_count": null,
   "id": "62057726",
   "metadata": {
    "deletable": false,
    "editable": false,
    "nbgrader": {
     "cell_type": "code",
     "checksum": "3417035ebfed9c8913701ac22d7a0bff",
     "grade": true,
     "grade_id": "cell-20bfd7ddbfa2414e",
     "locked": true,
     "points": 1,
     "schema_version": 3,
     "solution": false,
     "task": false
    }
   },
   "outputs": [],
   "source": []
  },
  {
   "cell_type": "markdown",
   "id": "78ef4790-b0f4-4126-b64f-5d3ea46ff2b8",
   "metadata": {
    "deletable": false,
    "editable": false,
    "nbgrader": {
     "cell_type": "markdown",
     "checksum": "82dbc02870a7af2fb5e0231ff509893d",
     "grade": false,
     "grade_id": "cell-23b0f573eefa7607",
     "locked": true,
     "schema_version": 3,
     "solution": false,
     "task": false
    }
   },
   "source": [
    "#### Exercise 8: Generating your confusion matrix "
   ]
  },
  {
   "cell_type": "code",
   "execution_count": null,
   "id": "8a52bb72",
   "metadata": {
    "deletable": false,
    "nbgrader": {
     "cell_type": "code",
     "checksum": "c01bde4b754bf4ba2f58e512cc10e24b",
     "grade": false,
     "grade_id": "cell-6bd7b0568fe3bf34",
     "locked": false,
     "schema_version": 3,
     "solution": true,
     "task": false
    }
   },
   "outputs": [],
   "source": [
    "cm = confusion_matrix(y_test,preds)\n",
    "\n",
    "disp = ConfusionMatrixDisplay(confusion_matrix=cm, display_labels=classifier.classes_)\n",
    "disp.plot()\n",
    "disp.ax_.set_title('Confusion Matrix for Hyperparameter Tuned SVM')"
   ]
  },
  {
   "cell_type": "code",
   "execution_count": null,
   "id": "2c5cf9a7",
   "metadata": {
    "deletable": false,
    "editable": false,
    "nbgrader": {
     "cell_type": "code",
     "checksum": "3448e4f53018795dea0d7f3ba46dfed1",
     "grade": true,
     "grade_id": "cell-4aac46fa2092cd5a",
     "locked": true,
     "points": 1,
     "schema_version": 3,
     "solution": false,
     "task": false
    }
   },
   "outputs": [],
   "source": []
  },
  {
   "cell_type": "markdown",
   "id": "b8b87bea-385f-4329-9266-560115f8c84d",
   "metadata": {
    "deletable": false,
    "editable": false,
    "nbgrader": {
     "cell_type": "markdown",
     "checksum": "07e4cecbb9f51888a1e2666495bfd492",
     "grade": false,
     "grade_id": "cell-52e886ddc0cbfa3a",
     "locked": true,
     "schema_version": 3,
     "solution": false,
     "task": false
    }
   },
   "source": [
    "#### Exercise 9: Calculating the Accuracy, F1 Score and Recall Score"
   ]
  },
  {
   "cell_type": "code",
   "execution_count": null,
   "id": "2c7122c3",
   "metadata": {
    "deletable": false,
    "nbgrader": {
     "cell_type": "code",
     "checksum": "66053a26f3366a5e8b2c10c0b5cb268d",
     "grade": false,
     "grade_id": "cell-e46430a390e26482",
     "locked": false,
     "schema_version": 3,
     "solution": true,
     "task": false
    }
   },
   "outputs": [],
   "source": [
    "accuracy = accuracy_score(y_test, preds)\n",
    "f1 = f1_score(y_test, preds)\n",
    "recall = recall_score(y_test, preds)\n",
    "\n",
    "\n",
    "\n",
    "print(f'Accuracy: {accuracy}')\n",
    "print(f'F1 Score: {f1}')\n",
    "print(f'Recall Score: {recall}')"
   ]
  },
  {
   "cell_type": "code",
   "execution_count": null,
   "id": "b71bdf82",
   "metadata": {
    "deletable": false,
    "editable": false,
    "nbgrader": {
     "cell_type": "code",
     "checksum": "32e4bf118ac647a8596a81bbf102dd3c",
     "grade": true,
     "grade_id": "cell-8c3be2fee4a6b886",
     "locked": true,
     "points": 1,
     "schema_version": 3,
     "solution": false,
     "task": false
    }
   },
   "outputs": [],
   "source": []
  }
 ],
 "metadata": {
  "kernelspec": {
   "display_name": "Python 3 (ipykernel)",
   "language": "python",
   "name": "python3"
  },
  "language_info": {
   "codemirror_mode": {
    "name": "ipython",
    "version": 3
   },
   "file_extension": ".py",
   "mimetype": "text/x-python",
   "name": "python",
   "nbconvert_exporter": "python",
   "pygments_lexer": "ipython3",
   "version": "3.10.6"
  }
 },
 "nbformat": 4,
 "nbformat_minor": 5
}
