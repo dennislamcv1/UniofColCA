{
 "cells": [
  {
   "cell_type": "markdown",
   "id": "b1ee03ee-15b2-45d2-9e09-606400a10f14",
   "metadata": {
    "deletable": false,
    "editable": false,
    "nbgrader": {
     "cell_type": "markdown",
     "checksum": "23ee2c1795ccbfa39ec77cfd1c496a84",
     "grade": false,
     "grade_id": "cell-37bedfdacc60f0cb",
     "locked": true,
     "schema_version": 3,
     "solution": false,
     "task": false
    }
   },
   "source": [
    "## Hands-On PCA on Soil Moisture Data Programming Assignment \n",
    "\n",
    "In this lab, you will work with the \"pueblo\" dataset, which includes soil data for moisture and temperature. You will focus on the soil moisture data, perform feature standardization, and apply Principal Component Analysis (PCA) to reduce the dimensionality of the data. Finally, you will calculate the explained variance ratio for the principal components.\n",
    "\n",
    "The lab is similar to the example where we performed PCA on soil temperature data."
   ]
  },
  {
   "cell_type": "markdown",
   "id": "a1729182",
   "metadata": {
    "deletable": false,
    "editable": false,
    "nbgrader": {
     "cell_type": "markdown",
     "checksum": "b89ea90622ea8548d338f062e6869c2c",
     "grade": false,
     "grade_id": "cell-ae6b6fc5d081f061",
     "locked": true,
     "schema_version": 3,
     "solution": false,
     "task": false
    }
   },
   "source": [
    "First, import the following libraries: "
   ]
  },
  {
   "cell_type": "code",
   "execution_count": 1,
   "id": "e51a0d49-373f-40c4-ab7f-ef97ecdbad72",
   "metadata": {
    "deletable": false,
    "editable": false,
    "nbgrader": {
     "cell_type": "code",
     "checksum": "8697e0fc9c3e38706b87eac1bf8cfc8a",
     "grade": false,
     "grade_id": "cell-db2b827fd6f1749e",
     "locked": true,
     "schema_version": 3,
     "solution": false,
     "task": false
    }
   },
   "outputs": [],
   "source": [
    "# Importing the libraries\n",
    "import pandas as pd\n",
    "import numpy as np\n",
    "import matplotlib.pyplot as plt\n",
    "import seaborn as sns\n",
    "import pyarrow\n",
    "\n",
    "# Importing the libraries for PCA\n",
    "from sklearn.decomposition import PCA\n",
    "from sklearn.preprocessing import StandardScaler"
   ]
  },
  {
   "cell_type": "markdown",
   "id": "c7d46e86",
   "metadata": {
    "deletable": false,
    "editable": false,
    "nbgrader": {
     "cell_type": "markdown",
     "checksum": "01ac579b500466be0c31c056db4b9ea8",
     "grade": false,
     "grade_id": "cell-868cf5841b92d898",
     "locked": true,
     "schema_version": 3,
     "solution": false,
     "task": false
    }
   },
   "source": [
    "Then, we'll import the dataset."
   ]
  },
  {
   "cell_type": "code",
   "execution_count": 2,
   "id": "edb07fec-46a4-4dd5-9f00-81a1da2db067",
   "metadata": {
    "deletable": false,
    "editable": false,
    "nbgrader": {
     "cell_type": "code",
     "checksum": "b60d19291918a6651b36e2e5cccfff8e",
     "grade": false,
     "grade_id": "cell-bb70e9213164fdd3",
     "locked": true,
     "schema_version": 3,
     "solution": false,
     "task": false
    }
   },
   "outputs": [
    {
     "data": {
      "text/html": [
       "<div>\n",
       "<style scoped>\n",
       "    .dataframe tbody tr th:only-of-type {\n",
       "        vertical-align: middle;\n",
       "    }\n",
       "\n",
       "    .dataframe tbody tr th {\n",
       "        vertical-align: top;\n",
       "    }\n",
       "\n",
       "    .dataframe thead th {\n",
       "        text-align: right;\n",
       "    }\n",
       "</style>\n",
       "<table border=\"1\" class=\"dataframe\">\n",
       "  <thead>\n",
       "    <tr style=\"text-align: right;\">\n",
       "      <th></th>\n",
       "      <th>date</th>\n",
       "      <th>precip</th>\n",
       "      <th>max_temp</th>\n",
       "      <th>min_temp</th>\n",
       "      <th>gwl</th>\n",
       "      <th>sm_20cm</th>\n",
       "      <th>st_20cm</th>\n",
       "      <th>sm_50cm</th>\n",
       "      <th>st_50cm</th>\n",
       "      <th>sm_100cm</th>\n",
       "      <th>st_100cm</th>\n",
       "      <th>daily_discharge_cfs</th>\n",
       "    </tr>\n",
       "  </thead>\n",
       "  <tbody>\n",
       "    <tr>\n",
       "      <th>85</th>\n",
       "      <td>2010-02-14</td>\n",
       "      <td>0.0</td>\n",
       "      <td>36</td>\n",
       "      <td>13</td>\n",
       "      <td>20.52</td>\n",
       "      <td>0.205500</td>\n",
       "      <td>0.408333</td>\n",
       "      <td>0.182875</td>\n",
       "      <td>1.320833</td>\n",
       "      <td>0.135333</td>\n",
       "      <td>3.700000</td>\n",
       "      <td>136.0</td>\n",
       "    </tr>\n",
       "    <tr>\n",
       "      <th>86</th>\n",
       "      <td>2010-02-15</td>\n",
       "      <td>0.0</td>\n",
       "      <td>41</td>\n",
       "      <td>7</td>\n",
       "      <td>20.51</td>\n",
       "      <td>0.215333</td>\n",
       "      <td>0.595833</td>\n",
       "      <td>0.183292</td>\n",
       "      <td>1.445833</td>\n",
       "      <td>0.137250</td>\n",
       "      <td>3.625000</td>\n",
       "      <td>129.0</td>\n",
       "    </tr>\n",
       "    <tr>\n",
       "      <th>87</th>\n",
       "      <td>2010-02-16</td>\n",
       "      <td>0.0</td>\n",
       "      <td>43</td>\n",
       "      <td>8</td>\n",
       "      <td>20.51</td>\n",
       "      <td>0.210417</td>\n",
       "      <td>0.500000</td>\n",
       "      <td>0.183625</td>\n",
       "      <td>1.495833</td>\n",
       "      <td>0.136583</td>\n",
       "      <td>3.700000</td>\n",
       "      <td>130.0</td>\n",
       "    </tr>\n",
       "    <tr>\n",
       "      <th>88</th>\n",
       "      <td>2010-02-17</td>\n",
       "      <td>0.0</td>\n",
       "      <td>51</td>\n",
       "      <td>10</td>\n",
       "      <td>20.51</td>\n",
       "      <td>0.209708</td>\n",
       "      <td>0.500000</td>\n",
       "      <td>0.184667</td>\n",
       "      <td>1.437500</td>\n",
       "      <td>0.135625</td>\n",
       "      <td>3.645833</td>\n",
       "      <td>132.0</td>\n",
       "    </tr>\n",
       "    <tr>\n",
       "      <th>89</th>\n",
       "      <td>2010-02-18</td>\n",
       "      <td>0.0</td>\n",
       "      <td>51</td>\n",
       "      <td>16</td>\n",
       "      <td>20.50</td>\n",
       "      <td>0.210542</td>\n",
       "      <td>0.637500</td>\n",
       "      <td>0.185125</td>\n",
       "      <td>1.479167</td>\n",
       "      <td>0.135333</td>\n",
       "      <td>3.708333</td>\n",
       "      <td>135.0</td>\n",
       "    </tr>\n",
       "  </tbody>\n",
       "</table>\n",
       "</div>"
      ],
      "text/plain": [
       "         date  precip  max_temp  min_temp    gwl   sm_20cm   st_20cm  \\\n",
       "85 2010-02-14     0.0        36        13  20.52  0.205500  0.408333   \n",
       "86 2010-02-15     0.0        41         7  20.51  0.215333  0.595833   \n",
       "87 2010-02-16     0.0        43         8  20.51  0.210417  0.500000   \n",
       "88 2010-02-17     0.0        51        10  20.51  0.209708  0.500000   \n",
       "89 2010-02-18     0.0        51        16  20.50  0.210542  0.637500   \n",
       "\n",
       "     sm_50cm   st_50cm  sm_100cm  st_100cm  daily_discharge_cfs  \n",
       "85  0.182875  1.320833  0.135333  3.700000                136.0  \n",
       "86  0.183292  1.445833  0.137250  3.625000                129.0  \n",
       "87  0.183625  1.495833  0.136583  3.700000                130.0  \n",
       "88  0.184667  1.437500  0.135625  3.645833                132.0  \n",
       "89  0.185125  1.479167  0.135333  3.708333                135.0  "
      ]
     },
     "execution_count": 2,
     "metadata": {},
     "output_type": "execute_result"
    }
   ],
   "source": [
    "# Reading dataset\n",
    "\n",
    "df = pd.read_parquet('pueblo.parquet')\n",
    "df.head()"
   ]
  },
  {
   "cell_type": "code",
   "execution_count": 3,
   "id": "d54b71c0",
   "metadata": {},
   "outputs": [
    {
     "data": {
      "text/plain": [
       "Index(['date', 'precip', 'max_temp', 'min_temp', 'gwl', 'sm_20cm', 'st_20cm',\n",
       "       'sm_50cm', 'st_50cm', 'sm_100cm', 'st_100cm', 'daily_discharge_cfs'],\n",
       "      dtype='object')"
      ]
     },
     "execution_count": 3,
     "metadata": {},
     "output_type": "execute_result"
    }
   ],
   "source": [
    "df.columns"
   ]
  },
  {
   "cell_type": "markdown",
   "id": "f348279b",
   "metadata": {
    "deletable": false,
    "editable": false,
    "nbgrader": {
     "cell_type": "markdown",
     "checksum": "fca2b88fdac86fad200914fbad0fceb2",
     "grade": false,
     "grade_id": "cell-9c814708fdcbf15c",
     "locked": true,
     "schema_version": 3,
     "solution": false,
     "task": false
    }
   },
   "source": [
    "# Part 1\n",
    "\n",
    "In the dataset, we have 3 different types of soil moisture data which correspond to soil moisture depth at 20cm, 50cm, 100cm. In this part, you will create a feature list for the soil moisture data and standardize the features. "
   ]
  },
  {
   "cell_type": "code",
   "execution_count": 4,
   "id": "b9764d85-f4d3-425a-a082-ec7459d9d257",
   "metadata": {
    "deletable": false,
    "nbgrader": {
     "cell_type": "code",
     "checksum": "5b35b8d5318dd5d4ba2865081410a7df",
     "grade": false,
     "grade_id": "cell-4e94aecc76a9e117",
     "locked": false,
     "schema_version": 3,
     "solution": true,
     "task": false
    }
   },
   "outputs": [
    {
     "name": "stdout",
     "output_type": "stream",
     "text": [
      "(4881, 3)\n"
     ]
    }
   ],
   "source": [
    "# Part 1: Create feature list for soil moisture data\n",
    "X = df[['sm_20cm', 'sm_50cm', 'sm_100cm']]\n",
    "\n",
    "# Standardize the features\n",
    "scaler = StandardScaler()\n",
    "X_scaled = scaler.fit_transform(X)\n",
    "\n",
    "# Check the scaled output\n",
    "X_scaled[:5]  # Preview the first 5 rows\n",
    "\n",
    "print(X_scaled.shape)"
   ]
  },
  {
   "cell_type": "code",
   "execution_count": 5,
   "id": "4e14ae7d",
   "metadata": {
    "deletable": false,
    "nbgrader": {
     "cell_type": "code",
     "checksum": "31f42d95e470ffab402c3d92f94de524",
     "grade": true,
     "grade_id": "cell-fa8977e81c38411b",
     "locked": true,
     "points": 1,
     "schema_version": 3,
     "solution": false,
     "task": false
    }
   },
   "outputs": [],
   "source": [
    "assert (X_scaled.shape == (4881, 3), \"The dimensions of your scaled dataset are not correct. Be sure to only include the soil moisture data in your dataframe.\")"
   ]
  },
  {
   "attachments": {
    "MCAC3_PCA_SMD.png": {
     "image/png": "[encoded data removed]"
    }
   },
   "cell_type": "markdown",
   "id": "96765f16",
   "metadata": {
    "deletable": false,
    "editable": false,
    "nbgrader": {
     "cell_type": "markdown",
     "checksum": "3030a8e561c35e972864df3d760a8f34",
     "grade": false,
     "grade_id": "cell-78edd8cb8457663a",
     "locked": true,
     "schema_version": 3,
     "solution": false,
     "task": false
    }
   },
   "source": [
    "# Part 2\n",
    "\n",
    "Now, apply PCA to reduce the dimensionality of the standardized soil moisture data, specifying three principal components. You will also need to calculate the explained variance ratio for each of the three principal components to understand how much variance each component captures.\n",
    "\n",
    "If you have completed the PCA correctly, you should generate a graph similar to the following: \n",
    "\n",
    "![MCAC3_PCA_SMD.png](attachment:MCAC3_PCA_SMD.png)"
   ]
  },
  {
   "cell_type": "code",
   "execution_count": 6,
   "id": "8dfd6d13-b1ab-43dc-a4f6-f2ae283ea2a2",
   "metadata": {
    "deletable": false,
    "nbgrader": {
     "cell_type": "code",
     "checksum": "03304070e3eda32eca175e8490cb78a8",
     "grade": false,
     "grade_id": "cell-91f13819b8d20e11",
     "locked": false,
     "schema_version": 3,
     "solution": true,
     "task": false
    }
   },
   "outputs": [
    {
     "name": "stdout",
     "output_type": "stream",
     "text": [
      "Explained Variance Ratio for each component:\n",
      "PC1: 0.68\n",
      "PC2: 0.26\n",
      "PC3: 0.06\n"
     ]
    },
    {
     "data": {
      "text/html": [
       "<div>\n",
       "<style scoped>\n",
       "    .dataframe tbody tr th:only-of-type {\n",
       "        vertical-align: middle;\n",
       "    }\n",
       "\n",
       "    .dataframe tbody tr th {\n",
       "        vertical-align: top;\n",
       "    }\n",
       "\n",
       "    .dataframe thead th {\n",
       "        text-align: right;\n",
       "    }\n",
       "</style>\n",
       "<table border=\"1\" class=\"dataframe\">\n",
       "  <thead>\n",
       "    <tr style=\"text-align: right;\">\n",
       "      <th></th>\n",
       "      <th>PC1</th>\n",
       "      <th>PC2</th>\n",
       "      <th>PC3</th>\n",
       "    </tr>\n",
       "  </thead>\n",
       "  <tbody>\n",
       "    <tr>\n",
       "      <th>0</th>\n",
       "      <td>1.252575</td>\n",
       "      <td>-2.095674</td>\n",
       "      <td>-0.361339</td>\n",
       "    </tr>\n",
       "    <tr>\n",
       "      <th>1</th>\n",
       "      <td>1.432428</td>\n",
       "      <td>-2.164119</td>\n",
       "      <td>-0.207372</td>\n",
       "    </tr>\n",
       "    <tr>\n",
       "      <th>2</th>\n",
       "      <td>1.357716</td>\n",
       "      <td>-2.122449</td>\n",
       "      <td>-0.292576</td>\n",
       "    </tr>\n",
       "    <tr>\n",
       "      <th>3</th>\n",
       "      <td>1.350591</td>\n",
       "      <td>-2.146373</td>\n",
       "      <td>-0.335211</td>\n",
       "    </tr>\n",
       "    <tr>\n",
       "      <th>4</th>\n",
       "      <td>1.365871</td>\n",
       "      <td>-2.167628</td>\n",
       "      <td>-0.336040</td>\n",
       "    </tr>\n",
       "  </tbody>\n",
       "</table>\n",
       "</div>"
      ],
      "text/plain": [
       "        PC1       PC2       PC3\n",
       "0  1.252575 -2.095674 -0.361339\n",
       "1  1.432428 -2.164119 -0.207372\n",
       "2  1.357716 -2.122449 -0.292576\n",
       "3  1.350591 -2.146373 -0.335211\n",
       "4  1.365871 -2.167628 -0.336040"
      ]
     },
     "execution_count": 6,
     "metadata": {},
     "output_type": "execute_result"
    }
   ],
   "source": [
    "# Part 2: Apply PCA with 3 components\n",
    "pca = PCA(n_components=3)\n",
    "\n",
    "# Fit and transform the standardized data\n",
    "principalComponents = pca.fit_transform(X_scaled)\n",
    "\n",
    "# Create a DataFrame for the principal components\n",
    "principalDf = pd.DataFrame(data=principalComponents, \n",
    "                           columns=['PC1', 'PC2', 'PC3'])\n",
    "\n",
    "# Calculate the explained variance ratio\n",
    "explained_variance_ratio = pca.explained_variance_ratio_\n",
    "\n",
    "# Print results\n",
    "print(\"Explained Variance Ratio for each component:\")\n",
    "for i, ratio in enumerate(explained_variance_ratio):\n",
    "    print(f\"PC{i+1}: {ratio:.2f}\")\n",
    "\n",
    "# Check the principal component DataFrame\n",
    "principalDf.head()\n"
   ]
  },
  {
   "cell_type": "code",
   "execution_count": null,
   "id": "7bc0ebe1",
   "metadata": {
    "deletable": false,
    "editable": false,
    "nbgrader": {
     "cell_type": "code",
     "checksum": "d1b3b7d823f1ef92206d7d153a97875d",
     "grade": true,
     "grade_id": "cell-d50334180c05d5c6",
     "locked": true,
     "points": 1,
     "schema_version": 3,
     "solution": false,
     "task": false
    }
   },
   "outputs": [],
   "source": []
  },
  {
   "cell_type": "code",
   "execution_count": 7,
   "id": "67422bf2",
   "metadata": {
    "deletable": false,
    "editable": false,
    "nbgrader": {
     "cell_type": "code",
     "checksum": "5a982caea2c3dfca3b511a496bd6093d",
     "grade": false,
     "grade_id": "cell-fdc6b9562e790096",
     "locked": true,
     "schema_version": 3,
     "solution": false,
     "task": false
    }
   },
   "outputs": [
    {
     "data": {
      "image/png": "[encoded data removed]",
      "text/plain": [
       "<Figure size 1000x500 with 1 Axes>"
      ]
     },
     "metadata": {},
     "output_type": "display_data"
    }
   ],
   "source": [
    "# Plotting the explained variance as bar plot\n",
    "plt.figure(figsize=(10,5))\n",
    "plt.bar(range(1,4), pca.explained_variance_ratio_)\n",
    "plt.xlabel('Principal Component')\n",
    "plt.ylabel('Explained Variance')\n",
    "plt.title('Explained Variance by Principal Component')\n",
    "plt.show()"
   ]
  },
  {
   "cell_type": "markdown",
   "id": "94519dd2",
   "metadata": {
    "deletable": false,
    "editable": false,
    "nbgrader": {
     "cell_type": "markdown",
     "checksum": "80d6a900acef0c926d39ac6c3c11dcf2",
     "grade": false,
     "grade_id": "cell-64d024e1e87e069c",
     "locked": true,
     "schema_version": 3,
     "solution": false,
     "task": false
    }
   },
   "source": [
    "# Part 3\n",
    "\n",
    "In the graph above, Principal Component 1 (PC1) explains roughly 70% of the variance in soil moisture data. What does this mean? \n",
    "\n",
    "A. Variance shows how far apart data points are, so PC1 cannot represent the data because it doesn’t account for all of these differences. \n",
    "\n",
    "B. Variance, in the context of principal component analysis (PCA), measures how much the data points differ from    the mean of the dataset, indicating the spread or distribution of the data. Since PC1 captures the most significant variability, it effectively summarizes the key patterns, making it suitable for representing the data. \n",
    "\n",
    "C. Variance counts the total number of data points, so PC1 should be combined with other components for accurate representation.\n",
    "\n",
    "D. Variance is unrelated to data representation, making PC1 insufficient on its own."
   ]
  },
  {
   "cell_type": "code",
   "execution_count": 8,
   "id": "66bd8fdd",
   "metadata": {
    "deletable": false,
    "nbgrader": {
     "cell_type": "code",
     "checksum": "b2574ca823aa37f15d58b80cbeda5e99",
     "grade": false,
     "grade_id": "cell-8c3ec7b953d2af05",
     "locked": false,
     "schema_version": 3,
     "solution": true,
     "task": false
    }
   },
   "outputs": [],
   "source": [
    "# Add the correct response option to `correct_answer` below. \n",
    "# Your answer should look like the following: correct_answer = 'E'\n",
    "\n",
    "correct_answer = 'B'\n"
   ]
  },
  {
   "cell_type": "code",
   "execution_count": null,
   "id": "fa53c87b",
   "metadata": {
    "deletable": false,
    "editable": false,
    "nbgrader": {
     "cell_type": "code",
     "checksum": "4ccad6adbe3ed1e0bd9400cb397a4d09",
     "grade": true,
     "grade_id": "cell-4355873fce2102f4",
     "locked": true,
     "points": 1,
     "schema_version": 3,
     "solution": false,
     "task": false
    }
   },
   "outputs": [],
   "source": []
  }
 ],
 "metadata": {
  "kernelspec": {
   "display_name": "Python 3 (ipykernel)",
   "language": "python",
   "name": "python3"
  },
  "language_info": {
   "codemirror_mode": {
    "name": "ipython",
    "version": 3
   },
   "file_extension": ".py",
   "mimetype": "text/x-python",
   "name": "python",
   "nbconvert_exporter": "python",
   "pygments_lexer": "ipython3",
   "version": "3.10.6"
  }
 },
 "nbformat": 4,
 "nbformat_minor": 5
}
